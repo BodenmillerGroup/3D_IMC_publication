{
 "cells": [
  {
   "cell_type": "code",
   "execution_count": null,
   "metadata": {},
   "outputs": [],
   "source": [
    "from tifffile import imread, imsave\n",
    "import os, re, sys, csv\n",
    "import numpy as np\n",
    "import matplotlib.pyplot as pyp\n",
    "import cv2\n",
    "\n",
    "sys.path.append('~/3D_IMC_paper/Python/python_3d_imc_tools')\n",
    "from io_files import image_filepath_for_3D_stack,get_folder_order_from_file, get_image_stack_for_one_channel_csv\n",
    "from image_processing import local_image_normalization_stack, create_pseudo_image_with_pca"
   ]
  },
  {
   "cell_type": "markdown",
   "metadata": {},
   "source": [
    "### This script generates PCA based pseudoimages where PCA is calculated across all the channels\n",
    "The PCA loading are used for each channel to so that maximal infomration is contained on one image for all the channels.\n",
    "These images were used for testing different registration options with ImageJ REgisterVirtualStack plugin."
   ]
  },
  {
   "cell_type": "code",
   "execution_count": null,
   "metadata": {},
   "outputs": [],
   "source": [
    "input_base = \"~/3D_model201710/\"\n",
    "\n",
    "stack_single_channel_tiff_folder = input_base + '3Dstack_single_channel_tiffs/'\n",
    "\n",
    "#slice order\n",
    "stack3d_order = input_base + \"final_3D_stack_order_model201710.csv\"\n",
    "\n",
    "final3d_order = {}\n",
    "reader = csv.reader(open(stack3d_order, 'r'))    \n",
    "\n",
    "for k,v in reader:\n",
    "    v= int(v)\n",
    "    #k = k.replace('.ome.tiff','')\n",
    "    final3d_order[k] = v\n",
    "\n",
    "\n",
    "# OUTPUT: single chanel registration stack to check the alignment of the images\n",
    "singleChanel_dir = input_base + \"PseudoPCA\""
   ]
  },
  {
   "cell_type": "code",
   "execution_count": null,
   "metadata": {},
   "outputs": [],
   "source": [
    "sorted_dir = get_folder_order_from_file(stack_single_channel_tiff_folder,final3d_order)"
   ]
  },
  {
   "cell_type": "code",
   "execution_count": null,
   "metadata": {},
   "outputs": [],
   "source": [
    "slice_order = 0\n",
    "\n",
    "if not os.path.exists(singleChanel_dir):\n",
    "    os.mkdir(singleChanel_dir)\n",
    "\n",
    "for e in sorted_dir:\n",
    "\n",
    "    channel_dir = os.path.join(stack_single_channel_tiff_folder, e)\n",
    "    img_list = image_filepath_for_3D_stack(channel_dir, tiff = False)\n",
    "\n",
    "    img = imread(img_list, pattern=None)\n",
    "    print(img.shape)\n",
    "    img = np.array(img, dtype=np.float32)\n",
    "    img = local_image_normalization_stack(img, zscore = True, quant_norm = 0.99)\n",
    "    #by default only calculates the first PCA that explains max variance\n",
    "    pseudo_img = create_pseudo_image_with_pca(img)\n",
    "\n",
    "    pseudo_img = np.array(pseudo_img, dtype=np.float32)\n",
    "\n",
    "    outfile = '{0:04}'.format((slice_order+1)) + '_pseudoPCA.tiff'\n",
    "    print(outfile)\n",
    "    imsave(os.path.join(singleChanel_dir, outfile), pseudo_img, compress=False)\n",
    "\n",
    "    slice_order = slice_order + 1\n"
   ]
  },
  {
   "cell_type": "markdown",
   "metadata": {},
   "source": [
    "#### End of Notebook"
   ]
  }
 ],
 "metadata": {
  "kernelspec": {
   "display_name": "Python 3",
   "language": "python",
   "name": "python3"
  },
  "language_info": {
   "codemirror_mode": {
    "name": "ipython",
    "version": 3
   },
   "file_extension": ".py",
   "mimetype": "text/x-python",
   "name": "python",
   "nbconvert_exporter": "python",
   "pygments_lexer": "ipython3",
   "version": "3.7.8"
  }
 },
 "nbformat": 4,
 "nbformat_minor": 4
}
