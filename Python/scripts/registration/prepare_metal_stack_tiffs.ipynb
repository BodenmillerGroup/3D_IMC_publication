{
 "cells": [
  {
   "cell_type": "code",
   "execution_count": null,
   "metadata": {},
   "outputs": [],
   "source": [
    "from tifffile import imread, imsave\n",
    "import os, re\n",
    "import csv\n",
    "import numpy as np\n",
    "import sys\n",
    "sys.path.append('~/3D_IMC_paper/Python/python_3d_imc_tools')\n",
    "from io_files import get_metal_list_from_single_tiffs,save_image_as_stack_for_one_channel_csv,split_name_metal"
   ]
  },
  {
   "cell_type": "markdown",
   "metadata": {},
   "source": [
    "### This script generates a folder structure where each metal channel is a folder and each folder contains all single channel TIFFs for that channel for the entire 3D model. \n",
    "\n",
    "This type of folder structure was easiest to use as lot of registration and segmentation tools expect a single channel 3D stack."
   ]
  },
  {
   "cell_type": "code",
   "execution_count": null,
   "metadata": {},
   "outputs": [],
   "source": [
    "# INPUT: single chanel TIFFs from the whole 3D model to use for \n",
    "#initial registeration i.e an image per slice\n",
    "input_base = '~/3D_model201710/'\n",
    "\n",
    "#INPUT: stack of single channel tiffs for each slice for each metal channel to whcih \n",
    "#the transformation will be applied. Tiffs for each slice are separated into folders.\n",
    "stack_single_channel_tiff_folder = input_base + '3Dstack_single_channel_tiffs/'\n",
    "\n",
    "stack3d_order = input_base + 'final_3D_stack_order_model201710.csv'\n",
    "\n",
    "\n",
    "final3d_order = {}\n",
    "reader = csv.reader(open(stack3d_order, 'r'))    \n",
    "for k,v in reader:\n",
    "    v= int(v)\n",
    "    #k = k.replace('.ome.tiff','')\n",
    "    final3d_order[k] = v\n",
    "print(stack_single_channel_tiff_folder)"
   ]
  },
  {
   "cell_type": "code",
   "execution_count": null,
   "metadata": {},
   "outputs": [],
   "source": [
    "#choose metal channel for registrations and build a 3d stack from these images\n",
    "#compose the list of metals based on the metals available in the panel.\n",
    "metal_list = get_metal_list_from_single_tiffs(stack_single_channel_tiff_folder)\n",
    "stack_folder = stack_single_channel_tiff_folder\n",
    "output_folder = input_base + '3D_metal_stack_tiffs'\n",
    "\n",
    "if not os.path.exists(output_folder):\n",
    "        os.mkdir(output_folder)\n",
    "\n",
    "for case in metal_list:\n",
    "    metal_name = case\n",
    "    save_image_as_stack_for_one_channel_csv(stack_folder, metal_name,output_folder, final3d_order)    \n"
   ]
  },
  {
   "cell_type": "code",
   "execution_count": null,
   "metadata": {},
   "outputs": [],
   "source": [
    "print(metal_list)"
   ]
  },
  {
   "cell_type": "markdown",
   "metadata": {},
   "source": [
    "##### Notebook finished\n"
   ]
  }
 ],
 "metadata": {
  "kernelspec": {
   "display_name": "Python 3",
   "language": "python",
   "name": "python3"
  },
  "language_info": {
   "codemirror_mode": {
    "name": "ipython",
    "version": 3
   },
   "file_extension": ".py",
   "mimetype": "text/x-python",
   "name": "python",
   "nbconvert_exporter": "python",
   "pygments_lexer": "ipython3",
   "version": "3.7.8"
  }
 },
 "nbformat": 4,
 "nbformat_minor": 4
}
