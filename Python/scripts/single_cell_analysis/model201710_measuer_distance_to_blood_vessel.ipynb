{
 "cells": [
  {
   "cell_type": "code",
   "execution_count": null,
   "metadata": {},
   "outputs": [],
   "source": [
    "from tifffile import imread, imsave\n",
    "import os, re, sys, csv\n",
    "import numpy as np\n",
    "import matplotlib.pyplot as pyp\n",
    "from skimage.morphology import remove_small_objects, binary_closing\n",
    "from skimage.segmentation import find_boundaries\n",
    "from skimage.measure import regionprops, regionprops_table, label\n",
    "from skimage.segmentation import clear_border\n",
    "import cv2\n",
    "import copy\n",
    "import pandas as pd\n",
    "from scipy import ndimage as ndi\n",
    "import napari\n",
    "import scanpy as sc\n",
    "import seaborn as sns\n",
    "import math\n",
    "sys.path.append('~/3D_IMC_paper/Python/python_3d_imc_tools')\n",
    "from io_files import image_filepath_for_3D_stack\n"
   ]
  },
  {
   "cell_type": "code",
   "execution_count": null,
   "metadata": {},
   "outputs": [],
   "source": [
    "## function from skimage package https://github.com/scikit-image/scikit-image/blob/main/skimage/measure/_regionprops.py#L869-L1161\n",
    "\n",
    "COL_DTYPES = {\n",
    "    'area': int,\n",
    "    'bbox': int,\n",
    "    'bbox_area': int,\n",
    "    'moments_central': float,\n",
    "    'centroid': float,\n",
    "    'convex_area': int,\n",
    "    'convex_image': object,\n",
    "    'coords': object,\n",
    "    'eccentricity': float,\n",
    "    'equivalent_diameter': float,\n",
    "    'euler_number': int,\n",
    "    'extent': float,\n",
    "    'feret_diameter_max': float,\n",
    "    'filled_area': int,\n",
    "    'filled_image': object,\n",
    "    'moments_hu': float,\n",
    "    'image': object,\n",
    "    'inertia_tensor': float,\n",
    "    'inertia_tensor_eigvals': float,\n",
    "    'intensity_image': object,\n",
    "    'label': int,\n",
    "    'local_centroid': float,\n",
    "    'major_axis_length': float,\n",
    "    'max_intensity': int,\n",
    "    'mean_intensity': float,\n",
    "    'min_intensity': int,\n",
    "    'minor_axis_length': float,\n",
    "    'moments': float,\n",
    "    'moments_normalized': float,\n",
    "    'orientation': float,\n",
    "    'perimeter': float,\n",
    "    'slice': object,\n",
    "    'solidity': float,\n",
    "    'weighted_moments_central': float,\n",
    "    'weighted_centroid': float,\n",
    "    'weighted_moments_hu': float,\n",
    "    'weighted_local_centroid': float,\n",
    "    'weighted_moments': float,\n",
    "    'weighted_moments_normalized': float\n",
    "}\n",
    "\n",
    "OBJECT_COLUMNS = {\n",
    "    'image', 'coords', 'convex_image', 'slice',\n",
    "    'filled_image', 'intensity_image'\n",
    "}\n",
    "\n",
    "def  skimage_props_to_dict(regions, properties=('label', 'bbox'), separator='-'):\n",
    "    \"\"\"Convert image region properties list into a column dictionary.\"\"\"\n",
    "\n",
    "    out = {}\n",
    "    n = len(regions)\n",
    "    for prop in properties:\n",
    "        r = regions[0]\n",
    "        rp = getattr(r, prop)\n",
    "        if prop in COL_DTYPES:\n",
    "            dtype = COL_DTYPES[prop]\n",
    "        else:\n",
    "            func = r._extra_properties[prop]\n",
    "            dtype = _infer_regionprop_dtype(\n",
    "                func,\n",
    "                intensity=r._intensity_image is not None,\n",
    "                ndim=r.image.ndim,\n",
    "            )\n",
    "        column_buffer = np.zeros(n, dtype=dtype)\n",
    "\n",
    "        # scalars and objects are dedicated one column per prop\n",
    "        # array properties are raveled into multiple columns\n",
    "        # for more info, refer to notes 1\n",
    "        if np.isscalar(rp) or prop in OBJECT_COLUMNS or dtype is np.object_:\n",
    "            for i in range(n):\n",
    "                column_buffer[i] = regions[i][prop]\n",
    "            out[prop] = np.copy(column_buffer)\n",
    "        else:\n",
    "            if isinstance(rp, np.ndarray):\n",
    "                shape = rp.shape\n",
    "            else:\n",
    "                shape = (len(rp),)\n",
    "\n",
    "            for ind in np.ndindex(shape):\n",
    "                for k in range(n):\n",
    "                    loc = ind if len(ind) > 1 else ind[0]\n",
    "                    column_buffer[k] = regions[k][prop][loc]\n",
    "                modified_prop = separator.join(map(str, (prop,) + ind))\n",
    "                out[modified_prop] = np.copy(column_buffer)\n",
    "    return out"
   ]
  },
  {
   "cell_type": "code",
   "execution_count": null,
   "metadata": {},
   "outputs": [],
   "source": [
    "def load_channel_stack_for_napari(channel_name_to_load, base_folder, missing, crop_im = True):\n",
    "    metal_folder = base_folder +\"/\" + channel_name_to_load\n",
    "    image_path1 = image_filepath_for_3D_stack(metal_folder)\n",
    "    image1 = imread(image_path1, pattern = None)\n",
    "    \n",
    "    if missing is not None:\n",
    "        missing_slice_image = np.mean( np.array([image1[missing-1, :,:],image1[missing+1,:,:]]), axis=0)\n",
    "        image1 =  np.insert(image1,missing, missing_slice_image, axis=0)\n",
    "    \n",
    "    for i in range(image1.shape[0]):\n",
    "        #percent99 = np.percentile(image1[i, :,:], 99)\n",
    "        #tmp_im = np.clip(image1[i, :,:],0,percent99)\n",
    "        tmp_im = cv2.normalize(image1[i, :,:], None, alpha=0, beta=65535, norm_type=cv2.NORM_MINMAX, dtype=cv2.CV_16U)\n",
    "        tmp_im = np.clip(tmp_im,0,65535)\n",
    "        image1[i, :,:] = cv2.GaussianBlur(tmp_im,(3,3),1)\n",
    "        #image1[i, :,:] = cv2.blur(tmp_im,(3,3))\n",
    "               \n",
    "    if crop_im == True:\n",
    "         image1 = image1[:, y_start:y_end,x_start:x_end]\n",
    "     \n",
    "    print('Max pixel value:', np.max(image1))\n",
    "    print('Median pixel value:', np.percentile(image1, 50))\n",
    "    return image1"
   ]
  },
  {
   "cell_type": "markdown",
   "metadata": {},
   "source": [
    "Next two functions enable measurment of Euclidean distance to closest blood vessel mask pixel using a bounding box to avoid needless calculations by checking first if inside a small bouding box there are any blood vessel mask pixels, if not the bouding box is extened. "
   ]
  },
  {
   "cell_type": "code",
   "execution_count": null,
   "metadata": {},
   "outputs": [],
   "source": [
    "def cell_distance_to_mask_3d (centroid_dict, bounding_box, mask_image):\n",
    "    z_edge = mask_image.shape[0]\n",
    "    y_edge = mask_image.shape[1]\n",
    "    x_edge = mask_image.shape[2]\n",
    "\n",
    "    min_distance_dict = {}\n",
    "\n",
    "    for key in centroid_dict:\n",
    "        z = centroid_dict[key]['centroid-0']\n",
    "        y = centroid_dict[key]['centroid-1']\n",
    "        x = centroid_dict[key]['centroid-2']        \n",
    "\n",
    "        for delta in bounding_box:\n",
    "\n",
    "            beginning_box_z = max(0, int(z)-delta)\n",
    "            end_box_z = min(z_edge, int(z)+delta)\n",
    "            beginning_box_y = max(0, int(y)-delta)\n",
    "            end_box_y = min(y_edge, int(y)+delta)\n",
    "            beginning_box_x = max(0, int(x)-delta)\n",
    "            end_box_x = min(x_edge, int(x)+delta)\n",
    "\n",
    "            z_mask, y_mask, x_mask = mask_image[beginning_box_z:end_box_z, beginning_box_y:end_box_y, beginning_box_x:end_box_x].nonzero()\n",
    "\n",
    "            potential_vessel_pixels = np.count_nonzero(z_mask)+ np.count_nonzero(y_mask)+ np.count_nonzero(x_mask)\n",
    "            if potential_vessel_pixels==0:\n",
    "                continue\n",
    "            else:                                                                                             \n",
    "                min_distance = 1000000\n",
    "\n",
    "                for i in range(len(y_mask)):\n",
    "                    distance  = math.sqrt(((z_mask[i]+beginning_box_z)-z)**2 + ((y_mask[i] + beginning_box_y)-y)**2 + ((x_mask[i]+beginning_box_x)-x)**2)\n",
    "                    if distance < min_distance:\n",
    "                        min_distance = distance\n",
    "\n",
    "                if min_distance > delta:\n",
    "                    continue\n",
    "                else:\n",
    "                    min_distance_dict[centroid_dict[key]['label']] = min_distance\n",
    "\n",
    "            break\n",
    "\n",
    "    return min_distance_dict\n",
    "    "
   ]
  },
  {
   "cell_type": "code",
   "execution_count": null,
   "metadata": {},
   "outputs": [],
   "source": [
    "def cell_distance_to_mask_2d (centroid_dict, bounding_box, mask_image):\n",
    "    z_edge = mask_image.shape[0]\n",
    "    y_edge = mask_image.shape[1]\n",
    "    min_distance_dict = {}\n",
    "\n",
    "    for key in centroid_dict:\n",
    "        z = centroid_dict[key]['centroid-0']\n",
    "        y = centroid_dict[key]['centroid-1']\n",
    "\n",
    "        for delta in bounding_box:\n",
    "\n",
    "            beginning_box_z = max(0, int(z)-delta)\n",
    "            end_box_z = min(z_edge, int(z)+delta)\n",
    "            beginning_box_y = max(0, int(y)-delta)\n",
    "            end_box_y = min(y_edge, int(y)+delta)\n",
    "\n",
    "            z_mask, y_mask = mask_image[beginning_box_z:end_box_z, beginning_box_y:end_box_y].nonzero()\n",
    "\n",
    "            potential_vessel_pixels = np.count_nonzero(z_mask)+ np.count_nonzero(y_mask)\n",
    "            if potential_vessel_pixels==0:\n",
    "                continue\n",
    "            else:                                                                                             \n",
    "                min_distance = 1000000\n",
    "\n",
    "                for i in range(len(y_mask)):\n",
    "                    distance  = math.sqrt(((z_mask[i]+beginning_box_z)-z)**2 + ((y_mask[i] + beginning_box_y)-y)**2)\n",
    "                    if distance < min_distance:\n",
    "                        min_distance = distance\n",
    "\n",
    "                if min_distance > delta:\n",
    "                    continue\n",
    "                else:\n",
    "                    min_distance_dict[centroid_dict[key]['label']] = min_distance\n",
    "\n",
    "            break\n",
    "\n",
    "    return min_distance_dict\n",
    "    "
   ]
  },
  {
   "cell_type": "markdown",
   "metadata": {},
   "source": [
    "### Set inputs"
   ]
  },
  {
   "cell_type": "code",
   "execution_count": null,
   "metadata": {},
   "outputs": [],
   "source": [
    "# INPUT: single chanel TIFFs from the whole 3D model to use for \n",
    "\n",
    "#folder for registeration i.e an image per slice\n",
    "input_base = '~/3D_model201710/3D_registred_tiffs/IMC_fullStack_registred/imageJ_registration/full_model_aligned/'\n",
    "vessel_mask_input = input_base + 'blood_vessel_mask.tif'\n",
    "cell_labels_input = input_base + \"measured_mask_final_segmentation_hwatershed_500.00_90%.tif\"\n",
    "bounding_box_size =[1, 5, 10, 30, 50, 80, 100, 120, 150, 200, 250, 300, 400, 500, 1000]\n",
    "\n",
    "results_file = input_base +'model201710_singleCell_analysis.h5ad'  # the file that will store the analysis results\n"
   ]
  },
  {
   "cell_type": "code",
   "execution_count": null,
   "metadata": {},
   "outputs": [],
   "source": [
    "vessel_mask = imread(vessel_mask_input)\n",
    "cell_labels = imread(cell_labels_input)"
   ]
  },
  {
   "cell_type": "code",
   "execution_count": null,
   "metadata": {},
   "outputs": [],
   "source": [
    "adata = sc.read_h5ad(results_file)"
   ]
  },
  {
   "cell_type": "code",
   "execution_count": null,
   "metadata": {},
   "outputs": [],
   "source": [
    "vessel_mask_update = binary_closing(vessel_mask)\n",
    "vessel_mask_labeled = label(vessel_mask_update)\n",
    "vessel_mask_labeled = remove_small_objects(vessel_mask_labeled, 60)\n",
    "vessel_mask_labeled[vessel_mask_labeled>0]=1"
   ]
  },
  {
   "cell_type": "code",
   "execution_count": null,
   "metadata": {},
   "outputs": [],
   "source": [
    "final_vessel_mask = copy.deepcopy(vessel_mask_labeled)"
   ]
  },
  {
   "cell_type": "code",
   "execution_count": null,
   "metadata": {},
   "outputs": [],
   "source": [
    "boundaries_only = np.zeros(cell_labels.shape, dtype = cell_labels.dtype)\n",
    "k = 0 \n",
    "\n",
    "while k < boundaries_only.shape[0]: \n",
    "    slice_2D = cell_labels[k, :,:]\n",
    "    boundaries_only[k,:,:] = find_boundaries(slice_2D, connectivity=1, mode='outer', background=0)\n",
    "    k  = k + 1\n",
    "cell_labels_with_boundry =np.multiply(np.logical_not(boundaries_only),cell_labels)   "
   ]
  },
  {
   "cell_type": "code",
   "execution_count": null,
   "metadata": {},
   "outputs": [],
   "source": [
    "vessel = imread(input_base + \"CD31vWF_ROI_image.tif\")\n"
   ]
  },
  {
   "cell_type": "code",
   "execution_count": null,
   "metadata": {},
   "outputs": [],
   "source": [
    "scaling_factors = [2,1,1]\n",
    "with napari.gui_qt():\n",
    "    viewer = napari.view_image(vessel, name = 'vessel', scale = scaling_factors)\n",
    "    viewer.add_image(vessel_mask_labeled, name = 'vessel_mask_update', scale = scaling_factors)"
   ]
  },
  {
   "cell_type": "markdown",
   "metadata": {},
   "source": [
    "#### 3D distance calculation to closest blood vessel"
   ]
  },
  {
   "cell_type": "code",
   "execution_count": null,
   "metadata": {},
   "outputs": [],
   "source": [
    "object_diameter_im=regionprops(cell_labels)\n",
    "object_centroid_dict =dict()\n",
    "object_centroid_dict = skimage_props_to_dict(object_diameter_im, properties=['label','centroid'])\n",
    "    \n",
    "centroid_table = pd.DataFrame.from_dict(object_centroid_dict)\n",
    "centroid_dict_3d = centroid_table.to_dict('index')"
   ]
  },
  {
   "cell_type": "code",
   "execution_count": null,
   "metadata": {},
   "outputs": [],
   "source": [
    "minimum_distance_dict = cell_distance_to_mask_3d(centroid_dict_3d,bounding_box_size,final_vessel_mask)"
   ]
  },
  {
   "cell_type": "code",
   "execution_count": null,
   "metadata": {},
   "outputs": [],
   "source": [
    "distance_table_3D = pd.DataFrame.from_dict(data = minimum_distance_dict,orient = 'index',dtype=None, columns= ['min_distance'])\n",
    "distance_table_name = input_base + \"distance_to_vessel_3D.csv\"\n",
    "distance_table_3D.to_csv(distance_table_name)"
   ]
  },
  {
   "cell_type": "markdown",
   "metadata": {},
   "source": [
    "#### Calculate distance for an image labeled as 33 separately ie 2D distance to mask on a specific slice"
   ]
  },
  {
   "cell_type": "code",
   "execution_count": null,
   "metadata": {},
   "outputs": [],
   "source": [
    "object_diameter_im=regionprops(cell_labels[32,:,:])\n",
    "object_centroid_dict =dict()\n",
    "object_centroid_dict = skimage_props_to_dict(object_diameter_im, properties=['label','centroid'])\n",
    "    \n",
    "centroid_table = pd.DataFrame.from_dict(object_centroid_dict)\n",
    "centroid_dict_2d_s71 = centroid_table.to_dict('index')"
   ]
  },
  {
   "cell_type": "code",
   "execution_count": null,
   "metadata": {},
   "outputs": [],
   "source": [
    "final_vessel_mask_slice71 = final_vessel_mask[32,:,:]"
   ]
  },
  {
   "cell_type": "code",
   "execution_count": null,
   "metadata": {},
   "outputs": [],
   "source": [
    "minimum_distance_dict = cell_distance_to_mask_2d(centroid_dict_2d_s71,bounding_box_size,final_vessel_mask_slice71)"
   ]
  },
  {
   "cell_type": "code",
   "execution_count": null,
   "metadata": {},
   "outputs": [],
   "source": [
    "distance_table_2D = pd.DataFrame.from_dict(data = minimum_distance_dict,orient = 'index',dtype=None, columns= ['min_distance'])\n",
    "distance_table_name = input_base + \"distance_to_vessel_2D_slice_33.csv\"\n",
    "distance_table_2D.to_csv(distance_table_name)"
   ]
  },
  {
   "cell_type": "code",
   "execution_count": null,
   "metadata": {},
   "outputs": [],
   "source": [
    "cell_labels_with_boundry_2d = cell_labels_with_boundry[32, :, :]\n",
    "\n",
    "distance_image = np.zeros(cell_labels_with_boundry_2d.shape)\n",
    "for key in minimum_distance_dict.keys():\n",
    "    distance_image[cell_labels_with_boundry_2d == key] = round(minimum_distance_dict[key],1)"
   ]
  },
  {
   "cell_type": "code",
   "execution_count": null,
   "metadata": {},
   "outputs": [],
   "source": [
    "max_distance_val = np.max(distance_image)\n",
    "print(max_distance_val)"
   ]
  },
  {
   "cell_type": "code",
   "execution_count": null,
   "metadata": {},
   "outputs": [],
   "source": [
    "norm_distance_im = distance_image/max_distance_val\n",
    "norm_distance_im = 1-norm_distance_im\n",
    "norm_distance_im[norm_distance_im ==1] = 0"
   ]
  },
  {
   "cell_type": "code",
   "execution_count": null,
   "metadata": {},
   "outputs": [],
   "source": [
    "with napari.gui_qt():\n",
    "    viewer = napari.view_image(norm_distance_im, name = 'vessel')\n",
    "    viewer.add_image(final_vessel_mask[32,:,:], name = 'vessel_mask_update')"
   ]
  },
  {
   "cell_type": "markdown",
   "metadata": {},
   "source": [
    "#### Slice 33 T cell and tumor cell distance only"
   ]
  },
  {
   "cell_type": "code",
   "execution_count": null,
   "metadata": {},
   "outputs": [],
   "source": [
    "cluster_labels = list(adata.obs['phenograph'])\n",
    "object_labels = list(adata.obs['cell_labels'])\n",
    "\n",
    "cluster_cell_label_dictionary = {}\n",
    "for item in range(len(object_labels)):\n",
    "    dict_key = int(cluster_labels[item])\n",
    "    if dict_key in cluster_cell_label_dictionary.keys():\n",
    "        cluster_cell_label_dictionary[dict_key].append(int(object_labels[item]))\n",
    "        \n",
    "    else:    \n",
    "        cluster_cell_label_dictionary[dict_key] = []\n",
    "        cluster_cell_label_dictionary[dict_key].append(int(object_labels[item]))"
   ]
  },
  {
   "cell_type": "code",
   "execution_count": null,
   "metadata": {},
   "outputs": [],
   "source": [
    "#choose clusters to display. Clusters 18 and 13 are for T cells.\n",
    "t_cell_labels = cluster_cell_label_dictionary[4] + cluster_cell_label_dictionary[6] + cluster_cell_label_dictionary[3] +cluster_cell_label_dictionary[37] + cluster_cell_label_dictionary[2] +cluster_cell_label_dictionary[1] +cluster_cell_label_dictionary[7] +cluster_cell_label_dictionary[5] \n",
    "#t_cell_labels = cluster_cell_label_dictionary[18] + cluster_cell_label_dictionary[13]"
   ]
  },
  {
   "cell_type": "code",
   "execution_count": null,
   "metadata": {},
   "outputs": [],
   "source": [
    "cell_labels_with_boundry_2d_subset = cell_labels[32, :, :]\n",
    "cells_on_slice = np.unique(cell_labels_with_boundry_2d_subset) \n",
    "distance_image_subset = np.zeros(cell_labels_with_boundry_2d_subset.shape)\n",
    "\n",
    "\n",
    "for entry in t_cell_labels:\n",
    "    if entry in cells_on_slice:\n",
    "        distance_image_subset[cell_labels_with_boundry_2d_subset == entry] = round(minimum_distance_dict[entry],1)\n",
    "norm_distance_im = distance_image_subset/max_distance_val\n",
    "norm_distance_im = 1-norm_distance_im\n",
    "norm_distance_im[norm_distance_im ==1] = 0"
   ]
  },
  {
   "cell_type": "code",
   "execution_count": null,
   "metadata": {},
   "outputs": [],
   "source": [
    "with napari.gui_qt():\n",
    "    viewer = napari.view_image(norm_distance_im, name = 'vessel')\n",
    "    viewer.add_image(final_vessel_mask[32,:,:], name = 'vessel_mask_update')"
   ]
  },
  {
   "cell_type": "markdown",
   "metadata": {},
   "source": [
    "#### Calculate the distance to vessel mask for each object in 2D - take the min distance if the object occurs on multiple slices"
   ]
  },
  {
   "cell_type": "code",
   "execution_count": null,
   "metadata": {},
   "outputs": [],
   "source": [
    "final_2d_object_distances = {}\n",
    "\n",
    "for s in range(final_vessel_mask.shape[0]):\n",
    "    image_2d = final_vessel_mask[s, :, :]\n",
    "    object_diameter_im=regionprops(cell_labels[s,:,:])\n",
    "    object_centroid_dict =dict()\n",
    "    object_centroid_dict_all_2d = skimage_props_to_dict(object_diameter_im, properties=['label','centroid'])\n",
    " \n",
    "    centroid_table = pd.DataFrame.from_dict(object_centroid_dict_all_2d)\n",
    "    centroid_dict = centroid_table.to_dict('index')\n",
    "  \n",
    "    minimum_distance_dict_all_2d = cell_distance_to_mask_2d(centroid_dict,bounding_box_size,image_2d)\n",
    "    \n",
    "    for label in minimum_distance_dict_all_2d.keys():\n",
    "        current_distance = minimum_distance_dict_all_2d[label]\n",
    "        if label in final_2d_object_distances.keys() : \n",
    "            previous_distance = final_2d_object_distances[label]\n",
    "            if current_distance < previous_distance:\n",
    "                final_2d_object_distances[label] = current_distance\n",
    "            else:\n",
    "                continue\n",
    "        else:\n",
    "            final_2d_object_distances[label] = current_distance "
   ]
  },
  {
   "cell_type": "code",
   "execution_count": null,
   "metadata": {},
   "outputs": [],
   "source": [
    "distance_table_2D = pd.DataFrame.from_dict(data =final_2d_object_distances,orient = 'index',dtype=None, columns= ['min_distance'])\n",
    "distance_table_name = input_base + \"distance_to_vessel_2D_all_cells.csv\"\n",
    "distance_table_2D.to_csv(distance_table_name)"
   ]
  },
  {
   "cell_type": "markdown",
   "metadata": {},
   "source": [
    "#### For 3D display distances for tumor cells, t cells and all cells for slice 33"
   ]
  },
  {
   "cell_type": "code",
   "execution_count": null,
   "metadata": {},
   "outputs": [],
   "source": [
    "minimum_distance = pd.read_csv(input_base + \"distance_to_vessel_3D.csv\", index_col = 0)"
   ]
  },
  {
   "cell_type": "code",
   "execution_count": null,
   "metadata": {},
   "outputs": [],
   "source": [
    "minimum_distance_dict = minimum_distance.to_dict('index')"
   ]
  },
  {
   "cell_type": "code",
   "execution_count": null,
   "metadata": {},
   "outputs": [],
   "source": [
    "max_distance_val = 362.9 #normalize to max 2d value ie max distance achieved for all the cells"
   ]
  },
  {
   "cell_type": "code",
   "execution_count": null,
   "metadata": {},
   "outputs": [],
   "source": [
    "cell_labels_with_boundry_2d = cell_labels_with_boundry[32, :, :]\n",
    "\n",
    "distance_image = np.zeros(cell_labels_with_boundry_2d.shape)\n",
    "for key in minimum_distance_dict.keys():\n",
    "    distance_image[cell_labels_with_boundry_2d == key] = round(minimum_distance_dict[key]['min_distance'],1)"
   ]
  },
  {
   "cell_type": "code",
   "execution_count": null,
   "metadata": {},
   "outputs": [],
   "source": [
    "norm_distance_im = distance_image/max_distance_val\n",
    "norm_distance_im = 1-norm_distance_im\n",
    "norm_distance_im[norm_distance_im ==1] = 0"
   ]
  },
  {
   "cell_type": "code",
   "execution_count": null,
   "metadata": {},
   "outputs": [],
   "source": [
    "with napari.gui_qt():\n",
    "    viewer = napari.view_image(norm_distance_im, name = 'vessel')\n",
    "    viewer.add_image(final_vessel_mask[32,:,:], name = 'vessel_mask_update')"
   ]
  },
  {
   "cell_type": "code",
   "execution_count": null,
   "metadata": {},
   "outputs": [],
   "source": [
    "cluster_labels = list(adata.obs['phenograph'])\n",
    "object_labels = list(adata.obs['cell_labels'])\n",
    "\n",
    "cluster_cell_label_dictionary = {}\n",
    "for item in range(len(object_labels)):\n",
    "    dict_key = int(cluster_labels[item])\n",
    "    if dict_key in cluster_cell_label_dictionary.keys():\n",
    "        cluster_cell_label_dictionary[dict_key].append(int(object_labels[item]))\n",
    "        \n",
    "    else:    \n",
    "        cluster_cell_label_dictionary[dict_key] = []\n",
    "        cluster_cell_label_dictionary[dict_key].append(int(object_labels[item]))"
   ]
  },
  {
   "cell_type": "code",
   "execution_count": null,
   "metadata": {},
   "outputs": [],
   "source": [
    "#t_cell_labels = cluster_cell_label_dictionary[4] + cluster_cell_label_dictionary[6] + cluster_cell_label_dictionary[3] +cluster_cell_label_dictionary[37] + cluster_cell_label_dictionary[2] +cluster_cell_label_dictionary[1] +cluster_cell_label_dictionary[7] +cluster_cell_label_dictionary[5] \n",
    "t_cell_labels = cluster_cell_label_dictionary[18] + cluster_cell_label_dictionary[13] # actual t cells"
   ]
  },
  {
   "cell_type": "code",
   "execution_count": null,
   "metadata": {},
   "outputs": [],
   "source": [
    "cell_labels_with_boundry_2d_subset = cell_labels[32, :, :]\n",
    "cells_on_slice = np.unique(cell_labels_with_boundry_2d_subset) \n",
    "distance_image_subset = np.zeros(cell_labels_with_boundry_2d_subset.shape)\n",
    "\n",
    "\n",
    "for entry in t_cell_labels:\n",
    "    if entry in cells_on_slice:\n",
    "        distance_image_subset[cell_labels_with_boundry_2d_subset == entry] = round(minimum_distance_dict[entry]['min_distance'],1)\n",
    "norm_distance_im = distance_image_subset/max_distance_val\n",
    "norm_distance_im = 1-norm_distance_im\n",
    "norm_distance_im[norm_distance_im ==1] = 0"
   ]
  },
  {
   "cell_type": "code",
   "execution_count": null,
   "metadata": {},
   "outputs": [],
   "source": [
    "with napari.gui_qt():\n",
    "    viewer = napari.view_image(norm_distance_im, name = 'vessel')\n",
    "    viewer.add_image(final_vessel_mask[32,:,:], name = 'vessel_mask_update')"
   ]
  },
  {
   "cell_type": "markdown",
   "metadata": {},
   "source": [
    "#### Distance measurment comparison for 2d and 3d for different cell groups"
   ]
  },
  {
   "cell_type": "code",
   "execution_count": null,
   "metadata": {},
   "outputs": [],
   "source": [
    "minimum_distance = pd.read_csv(input_base + \"distance_to_vessel_3D.csv\", index_col = 0)\n",
    "minimum_distance_dict = minimum_distance.to_dict('index')"
   ]
  },
  {
   "cell_type": "code",
   "execution_count": null,
   "metadata": {},
   "outputs": [],
   "source": [
    "minimum_distance_2d = pd.read_csv(input_base + \"distance_to_vessel_2D_all_cells.csv\", index_col = 0)\n",
    "minimum_distance_2d = minimum_distance_2d.rename(columns={\"min_distance\": \"min_distance_2d\"})\n",
    "minimum_distance_dict_2d = minimum_distance_2d.to_dict('index')"
   ]
  },
  {
   "cell_type": "code",
   "execution_count": null,
   "metadata": {},
   "outputs": [],
   "source": [
    "united_dict = minimum_distance_dict\n",
    "for i in minimum_distance_dict.keys():\n",
    "    if i not in minimum_distance_dict_2d.keys():\n",
    "        united_dict[i]['min_distance_2d'] = 'NaN'\n",
    "    else:\n",
    "        united_dict[i]['min_distance_2d'] = minimum_distance_dict_2d[i]['min_distance_2d']"
   ]
  },
  {
   "cell_type": "code",
   "execution_count": null,
   "metadata": {},
   "outputs": [],
   "source": [
    "distance_table =  pd.DataFrame.from_dict(united_dict,'index' )"
   ]
  },
  {
   "cell_type": "code",
   "execution_count": null,
   "metadata": {},
   "outputs": [],
   "source": [
    "distance_table"
   ]
  },
  {
   "cell_type": "markdown",
   "metadata": {},
   "source": [
    "#### Plot Distances for all cells"
   ]
  },
  {
   "cell_type": "code",
   "execution_count": null,
   "metadata": {},
   "outputs": [],
   "source": [
    "sns.distplot(distance_table['min_distance'], hist = False, kde = True, label='3D distance')\n",
    "sns.distplot(distance_table['min_distance_2d'], hist = False, kde = True, label='2D distance')\n",
    "# Plot formatting\n",
    "pyp.legend(prop={'size': 12})\n",
    "pyp.title('Distance to closest blood vessel for all cells')\n",
    "pyp.xlabel('Distance (um)')\n",
    "pyp.ylabel('Density') "
   ]
  },
  {
   "cell_type": "markdown",
   "metadata": {},
   "source": [
    "#### Plot Distances for T cells"
   ]
  },
  {
   "cell_type": "code",
   "execution_count": null,
   "metadata": {},
   "outputs": [],
   "source": [
    "t_cell_labels = cluster_cell_label_dictionary[18] + cluster_cell_label_dictionary[13]\n",
    "subset_table = distance_table.filter(items = t_cell_labels, axis = 'index')\n",
    "sns.distplot(subset_table['min_distance'], hist = False, kde = True, label='3D distance')\n",
    "sns.distplot(subset_table['min_distance_2d'], hist = False, kde = True, label='2D distance')\n",
    "# Plot formatting\n",
    "pyp.legend(prop={'size': 12})\n",
    "pyp.title('Distance to closest blood vessel for T-cells')\n",
    "pyp.xlabel('Distance (um)')\n",
    "pyp.ylabel('Density')  \n"
   ]
  },
  {
   "cell_type": "markdown",
   "metadata": {},
   "source": [
    "#### Plot Distances for tumor cells"
   ]
  },
  {
   "cell_type": "code",
   "execution_count": null,
   "metadata": {},
   "outputs": [],
   "source": [
    "t_cell_labels = cluster_cell_label_dictionary[4] + cluster_cell_label_dictionary[6] + cluster_cell_label_dictionary[3] +cluster_cell_label_dictionary[37] + cluster_cell_label_dictionary[2] +cluster_cell_label_dictionary[1] +cluster_cell_label_dictionary[7] +cluster_cell_label_dictionary[5] \n",
    "subset_table = distance_table.filter(items = t_cell_labels, axis = 'index')\n",
    "sns.distplot(subset_table['min_distance'], hist = False, kde = True, label='3D distance')\n",
    "sns.distplot(subset_table['min_distance_2d'], hist = False, kde = True, label='2D distance')\n",
    "# Plot formatting\n",
    "pyp.legend(prop={'size': 12})\n",
    "pyp.title('Distance to closest blood vessel for luminal epithelial cells')\n",
    "pyp.xlabel('Distance (um)')\n",
    "pyp.ylabel('Density')  \n"
   ]
  },
  {
   "cell_type": "markdown",
   "metadata": {},
   "source": [
    "#### Plot Distances for basal cells"
   ]
  },
  {
   "cell_type": "code",
   "execution_count": null,
   "metadata": {},
   "outputs": [],
   "source": [
    "t_cell_labels = cluster_cell_label_dictionary[19]\n",
    "subset_table = distance_table.filter(items = t_cell_labels, axis = 'index')\n",
    "sns.distplot(subset_table['min_distance'], hist = False, kde = True, label='3D distance')\n",
    "sns.distplot(subset_table['min_distance_2d'], hist = False, kde = True, label='2D distance')\n",
    "# Plot formatting\n",
    "pyp.legend(prop={'size': 12})\n",
    "pyp.title('Distance to closest blood vessel for basal epithelial cells')\n",
    "pyp.xlabel('Distance (um)')\n",
    "pyp.ylabel('Density')  \n"
   ]
  },
  {
   "cell_type": "markdown",
   "metadata": {},
   "source": [
    "#### Plot Distances for B cells"
   ]
  },
  {
   "cell_type": "code",
   "execution_count": null,
   "metadata": {},
   "outputs": [],
   "source": [
    "t_cell_labels = cluster_cell_label_dictionary[25] \n",
    "subset_table = distance_table.filter(items = t_cell_labels, axis = 'index')\n",
    "sns.distplot(subset_table['min_distance'], hist = False, kde = True, label='3D distance')\n",
    "sns.distplot(subset_table['min_distance_2d'], hist = False, kde = True, label='2D distance')\n",
    "# Plot formatting\n",
    "pyp.legend(prop={'size': 12})\n",
    "pyp.title('Distance to closest blood vessel for  B-cells')\n",
    "pyp.xlabel('Distance (um)')\n",
    "pyp.ylabel('Density')  \n"
   ]
  },
  {
   "cell_type": "markdown",
   "metadata": {},
   "source": [
    "#### Plot Distances for stromal cells"
   ]
  },
  {
   "cell_type": "code",
   "execution_count": null,
   "metadata": {},
   "outputs": [],
   "source": [
    "t_cell_labels = cluster_cell_label_dictionary[17] +  cluster_cell_label_dictionary[22]\n",
    "subset_table = distance_table.filter(items = t_cell_labels, axis = 'index')\n",
    "sns.distplot(subset_table['min_distance'], hist = False, kde = True, label='3D distance')\n",
    "sns.distplot(subset_table['min_distance_2d'], hist = False, kde = True, label='2D distance')\n",
    "# Plot formatting\n",
    "pyp.legend(prop={'size': 12})\n",
    "pyp.title('Distance to closest blood vessel for stromal cells')\n",
    "pyp.xlabel('Distance (um)')\n",
    "pyp.ylabel('Density') "
   ]
  },
  {
   "cell_type": "markdown",
   "metadata": {},
   "source": [
    "#### Plot Distances for macrophages"
   ]
  },
  {
   "cell_type": "code",
   "execution_count": null,
   "metadata": {},
   "outputs": [],
   "source": [
    "t_cell_labels = cluster_cell_label_dictionary[30]\n",
    "subset_table = distance_table.filter(items = t_cell_labels, axis = 'index')\n",
    "sns.distplot(subset_table['min_distance'], hist = False, kde = True, label='3D distance')\n",
    "sns.distplot(subset_table['min_distance_2d'], hist = False, kde = True, label='2D distance')\n",
    "# Plot formatting\n",
    "pyp.legend(prop={'size': 12})\n",
    "pyp.title('Distance to closest blood vessel for macrophages')\n",
    "pyp.xlabel('Distance (um)')\n",
    "pyp.ylabel('Density') "
   ]
  },
  {
   "cell_type": "markdown",
   "metadata": {},
   "source": [
    "###### End of notebook"
   ]
  }
 ],
 "metadata": {
  "kernelspec": {
   "display_name": "Python 3",
   "language": "python",
   "name": "python3"
  },
  "language_info": {
   "codemirror_mode": {
    "name": "ipython",
    "version": 3
   },
   "file_extension": ".py",
   "mimetype": "text/x-python",
   "name": "python",
   "nbconvert_exporter": "python",
   "pygments_lexer": "ipython3",
   "version": "3.7.8"
  }
 },
 "nbformat": 4,
 "nbformat_minor": 4
}
