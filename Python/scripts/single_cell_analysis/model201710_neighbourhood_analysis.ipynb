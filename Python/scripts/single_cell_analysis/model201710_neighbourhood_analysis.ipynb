{
 "cells": [
  {
   "cell_type": "code",
   "execution_count": null,
   "metadata": {},
   "outputs": [],
   "source": [
    "from tifffile import imread, imsave\n",
    "import os, re, sys, csv\n",
    "import numpy as np\n",
    "import matplotlib.pyplot as pyp\n",
    "from skimage.morphology import remove_small_objects, binary_closing\n",
    "from skimage.segmentation import find_boundaries\n",
    "from skimage.measure import regionprops, regionprops_table, label\n",
    "from skimage.segmentation import clear_border\n",
    "import cv2\n",
    "import copy\n",
    "import pandas as pd\n",
    "from scipy import ndimage as ndi\n",
    "import napari\n",
    "import scanpy as sc\n",
    "import seaborn as sns\n",
    "from skimage.future.graph import RAG, rag_mean_color\n",
    "import math"
   ]
  },
  {
   "cell_type": "code",
   "execution_count": null,
   "metadata": {},
   "outputs": [],
   "source": [
    "## function from skimage package https://github.com/scikit-image/scikit-image/blob/main/skimage/measure/_regionprops.py#L869-L1161\n",
    "\n",
    "COL_DTYPES = {\n",
    "    'area': int,\n",
    "    'bbox': int,\n",
    "    'bbox_area': int,\n",
    "    'moments_central': float,\n",
    "    'centroid': float,\n",
    "    'convex_area': int,\n",
    "    'convex_image': object,\n",
    "    'coords': object,\n",
    "    'eccentricity': float,\n",
    "    'equivalent_diameter': float,\n",
    "    'euler_number': int,\n",
    "    'extent': float,\n",
    "    'feret_diameter_max': float,\n",
    "    'filled_area': int,\n",
    "    'filled_image': object,\n",
    "    'moments_hu': float,\n",
    "    'image': object,\n",
    "    'inertia_tensor': float,\n",
    "    'inertia_tensor_eigvals': float,\n",
    "    'intensity_image': object,\n",
    "    'label': int,\n",
    "    'local_centroid': float,\n",
    "    'major_axis_length': float,\n",
    "    'max_intensity': int,\n",
    "    'mean_intensity': float,\n",
    "    'min_intensity': int,\n",
    "    'minor_axis_length': float,\n",
    "    'moments': float,\n",
    "    'moments_normalized': float,\n",
    "    'orientation': float,\n",
    "    'perimeter': float,\n",
    "    'slice': object,\n",
    "    'solidity': float,\n",
    "    'weighted_moments_central': float,\n",
    "    'weighted_centroid': float,\n",
    "    'weighted_moments_hu': float,\n",
    "    'weighted_local_centroid': float,\n",
    "    'weighted_moments': float,\n",
    "    'weighted_moments_normalized': float\n",
    "}\n",
    "\n",
    "OBJECT_COLUMNS = {\n",
    "    'image', 'coords', 'convex_image', 'slice',\n",
    "    'filled_image', 'intensity_image'\n",
    "}\n",
    "\n",
    "def  skimage_props_to_dict(regions, properties=('label', 'bbox'), separator='-'):\n",
    "    \"\"\"Convert image region properties list into a column dictionary.\"\"\"\n",
    "\n",
    "    out = {}\n",
    "    n = len(regions)\n",
    "    for prop in properties:\n",
    "        r = regions[0]\n",
    "        rp = getattr(r, prop)\n",
    "        if prop in COL_DTYPES:\n",
    "            dtype = COL_DTYPES[prop]\n",
    "        else:\n",
    "            func = r._extra_properties[prop]\n",
    "            dtype = _infer_regionprop_dtype(\n",
    "                func,\n",
    "                intensity=r._intensity_image is not None,\n",
    "                ndim=r.image.ndim,\n",
    "            )\n",
    "        column_buffer = np.zeros(n, dtype=dtype)\n",
    "\n",
    "        # scalars and objects are dedicated one column per prop\n",
    "        # array properties are raveled into multiple columns\n",
    "        # for more info, refer to notes 1\n",
    "        if np.isscalar(rp) or prop in OBJECT_COLUMNS or dtype is np.object_:\n",
    "            for i in range(n):\n",
    "                column_buffer[i] = regions[i][prop]\n",
    "            out[prop] = np.copy(column_buffer)\n",
    "        else:\n",
    "            if isinstance(rp, np.ndarray):\n",
    "                shape = rp.shape\n",
    "            else:\n",
    "                shape = (len(rp),)\n",
    "\n",
    "            for ind in np.ndindex(shape):\n",
    "                for k in range(n):\n",
    "                    loc = ind if len(ind) > 1 else ind[0]\n",
    "                    column_buffer[k] = regions[k][prop][loc]\n",
    "                modified_prop = separator.join(map(str, (prop,) + ind))\n",
    "                out[modified_prop] = np.copy(column_buffer)\n",
    "    return out"
   ]
  },
  {
   "cell_type": "markdown",
   "metadata": {},
   "source": [
    "### Set inputs"
   ]
  },
  {
   "cell_type": "code",
   "execution_count": null,
   "metadata": {},
   "outputs": [],
   "source": [
    "# INPUT: single chanel TIFFs from the whole 3D model to use for \n",
    "\n",
    "#folder for registeration i.e an image per slice\n",
    "input_base = '~/3D_model201710/3D_registred_tiffs/IMC_fullStack_registred/imageJ_registration/full_model_aligned/'\n",
    "vessel_mask_input = input_base + 'blood_vessel_mask.tif'\n",
    "cell_labels_input = input_base + \"measured_mask_final_segmentation_hwatershed_500.00_90%.tif\"\n",
    "\n",
    "results_file = input_base +'model201710_singleCell_analysis.h5ad'  # the file that will store the analysis results\n"
   ]
  },
  {
   "cell_type": "code",
   "execution_count": null,
   "metadata": {},
   "outputs": [],
   "source": [
    "vessel = imread(input_base + \"CD31vWF_ROI_image.tif\")"
   ]
  },
  {
   "cell_type": "code",
   "execution_count": null,
   "metadata": {},
   "outputs": [],
   "source": [
    "adata = sc.read_h5ad(results_file)\n",
    "o = list(adata.obs['phenograph'])\n",
    "c = list(adata.obs['cell_labels'])\n",
    "\n",
    "cluster_cell_label_dictionary = {}\n",
    "\n",
    "for item in range(len(o)):\n",
    "    dict_key = int(c[item])\n",
    "    cluster_cell_label_dictionary[dict_key]= o[item]"
   ]
  },
  {
   "cell_type": "code",
   "execution_count": null,
   "metadata": {},
   "outputs": [],
   "source": [
    "cell_labels = imread(cell_labels_input)"
   ]
  },
  {
   "cell_type": "markdown",
   "metadata": {},
   "source": [
    "#### Calculate nieghbourhood graph.\n",
    "Use vessel ROI image to have weights for the RAG but weights are not used"
   ]
  },
  {
   "cell_type": "code",
   "execution_count": null,
   "metadata": {},
   "outputs": [],
   "source": [
    "rag_for_cell_labels =  rag_mean_color(vessel,cell_labels, connectivity=2)"
   ]
  },
  {
   "cell_type": "code",
   "execution_count": null,
   "metadata": {},
   "outputs": [],
   "source": [
    "cell_labels_with_subset = cell_labels[32, :, :]\n",
    "cells_on_slice = np.unique(cell_labels_with_subset) "
   ]
  },
  {
   "cell_type": "code",
   "execution_count": null,
   "metadata": {},
   "outputs": [],
   "source": [
    "nbr_cluster_dict = {}\n",
    "for cell in c:\n",
    "    if cell > 0:\n",
    "        all_nbrs = rag_for_cell_labels.adj[cell]\n",
    "        nbr_cluster_dict[cell] = []\n",
    "        for entry in all_nbrs.keys():\n",
    "            if entry > 0:\n",
    "                nbr_cluster_dict[cell].append(cluster_cell_label_dictionary[entry])"
   ]
  },
  {
   "cell_type": "code",
   "execution_count": null,
   "metadata": {},
   "outputs": [],
   "source": [
    "type_dict = {}\n",
    "for e in nbr_cluster_dict:\n",
    "    nbrs_types = nbr_cluster_dict[e]\n",
    "    total_nbrs = len(nbrs_types)\n",
    "    type_dict[e] = {}\n",
    "    for i in range(38):\n",
    "        if total_nbrs == 0:\n",
    "            type_dict[e][i] = 0\n",
    "        else:\n",
    "            amount = nbrs_types.count(i) #/total_nbrs\n",
    "            type_dict[e][i] = amount"
   ]
  },
  {
   "cell_type": "code",
   "execution_count": null,
   "metadata": {},
   "outputs": [],
   "source": [
    "nbrs_table_3D = pd.DataFrame.from_dict(data = type_dict,orient = 'index')\n",
    "table_name = input_base + \"total_counts_cell_neigbor_identities_3D_all_cells.csv\"\n",
    "nbrs_table_3D.to_csv(table_name)"
   ]
  },
  {
   "cell_type": "markdown",
   "metadata": {},
   "source": [
    "#### Read in adjacent neigbor labels tabel for 3D computed from RAG"
   ]
  },
  {
   "cell_type": "code",
   "execution_count": null,
   "metadata": {},
   "outputs": [],
   "source": [
    "nbrs_table_3D = pd.read_csv(input_base + \"total_counts_cell_neigbor_identities_3D_all_cells.csv\", index_col = 0)\n",
    "nbrs_table_3D = nbrs_table_3D.drop('0',1)"
   ]
  },
  {
   "cell_type": "code",
   "execution_count": null,
   "metadata": {},
   "outputs": [],
   "source": [
    "cluster_labels = list(adata.obs['phenograph'])\n",
    "object_labels = list(adata.obs['cell_labels'])\n",
    "\n",
    "cluster_label_dictionary = {}\n",
    "for item in range(len(object_labels)):\n",
    "    dict_key = int(cluster_labels[item])\n",
    "    if dict_key in cluster_label_dictionary.keys():\n",
    "        cluster_label_dictionary[dict_key].append(int(object_labels[item]))\n",
    "        \n",
    "    else:    \n",
    "        cluster_label_dictionary[dict_key] = []\n",
    "        cluster_label_dictionary[dict_key].append(int(object_labels[item]))"
   ]
  },
  {
   "cell_type": "code",
   "execution_count": null,
   "metadata": {},
   "outputs": [],
   "source": [
    "t_cell_labels = cluster_label_dictionary[1]\n",
    "subset_table = nbrs_table_3D.filter(items = t_cell_labels, axis = 'index')\n",
    "mean_nbrs = pd.DataFrame(subset_table.sum(axis=0))\n",
    "mean_nbrs = mean_nbrs.rename(columns={0: 1})\n",
    "\n",
    "for i in range(len(cluster_label_dictionary.keys())):\n",
    "    if i == 1 or i ==0 :\n",
    "        continue\n",
    "    else:    \n",
    "        cells = cluster_label_dictionary[i]\n",
    "        subset_table = nbrs_table_3D.filter(items = cells, axis = 'index')\n",
    "        means = pd.DataFrame(subset_table.sum(axis=0))\n",
    "        mean_nbrs.insert(i-1, i, means)"
   ]
  },
  {
   "cell_type": "code",
   "execution_count": null,
   "metadata": {},
   "outputs": [],
   "source": [
    "average_table = mean_nbrs\n",
    "average_table['Total_3D']= average_table.sum(axis=1)\n",
    "nbrs_3D_norm = (average_table.iloc[:][:].div(average_table['Total_3D'], axis = 0))*100\n",
    "nbrs_3D_norm = nbrs_3D_norm.drop('Total_3D',1)"
   ]
  },
  {
   "cell_type": "code",
   "execution_count": null,
   "metadata": {},
   "outputs": [],
   "source": [
    "nbrs_3D_norm"
   ]
  },
  {
   "cell_type": "code",
   "execution_count": null,
   "metadata": {},
   "outputs": [],
   "source": [
    "ax = sns.clustermap(nbrs_3D_norm, row_cluster = False, col_cluster = False)"
   ]
  },
  {
   "cell_type": "markdown",
   "metadata": {},
   "source": [
    "### Calculate for 2D slices"
   ]
  },
  {
   "cell_type": "code",
   "execution_count": null,
   "metadata": {},
   "outputs": [],
   "source": [
    "nbrs_2d_dict = np.zeros((152,37,38), dtype = int)\n",
    "\n",
    "for s in range(cell_labels.shape[0]):\n",
    "            type_dict = {}\n",
    "\n",
    "            cell_labels_slice = cell_labels[s, :, :]\n",
    "            vessel_slice = vessel[s, :, :]\n",
    "\n",
    "            rag_for_cell_labels =  rag_mean_color(vessel_slice,cell_labels_slice, connectivity=2)\n",
    "            cell_labels_with_subset = cell_labels[s, :, :]\n",
    "            cells_on_slice = np.unique(cell_labels_with_subset)\n",
    "            nbr_cluster_dict = {}\n",
    "\n",
    "            for cell in cells_on_slice:\n",
    "                if cell > 0:\n",
    "                    all_nbrs = rag_for_cell_labels.adj[cell]\n",
    "                    nbr_cluster_dict[cell] = []\n",
    "                    for entry in all_nbrs.keys():\n",
    "                        if entry > 0:\n",
    "                            nbr_cluster_dict[cell].append(cluster_cell_label_dictionary[entry])\n",
    "\n",
    "            for e in nbr_cluster_dict:\n",
    "                nbrs_types = nbr_cluster_dict[e]\n",
    "                total_nbrs = len(nbrs_types)\n",
    "                if e not in type_dict.keys():\n",
    "                    type_dict[e] = {}\n",
    "                    for i in range(38):\n",
    "                        if total_nbrs == 0:\n",
    "                            type_dict[e][i] = 0\n",
    "                        else:\n",
    "                            amount = nbrs_types.count(i)\n",
    "                            type_dict[e][i] = amount                \n",
    "                else:\n",
    "                     for i in range(38):\n",
    "                        if total_nbrs == 0:\n",
    "                            continue\n",
    "                        else:\n",
    "                            amount = nbrs_types.count(i)\n",
    "                            type_dict[e][i]= amount\n",
    "\n",
    "\n",
    "            nbrs_table_2D = pd.DataFrame.from_dict(data = type_dict,orient = 'index')\n",
    "\n",
    "            t_cell_labels = cluster_label_dictionary[1]\n",
    "            subset_table = nbrs_table_2D.filter(items = t_cell_labels, axis = 'index')\n",
    "            mean_nbrs = pd.DataFrame(subset_table.sum(axis=0))\n",
    "            mean_nbrs = mean_nbrs.rename(columns={0: 1})\n",
    "\n",
    "            for i in range(len(cluster_label_dictionary.keys())):\n",
    "                if i == 1 or i ==0 :\n",
    "                    continue\n",
    "                else:    \n",
    "                    cells = cluster_label_dictionary[i]\n",
    "                    subset_table = nbrs_table_2D.filter(items = cells, axis = 'index')\n",
    "                    means = pd.DataFrame(subset_table.sum(axis=0))\n",
    "                    mean_nbrs.insert(i-1, i, means)\n",
    "            mean_nbrs = mean_nbrs.drop(0,0)        \n",
    "            mean_nbrs['Total_2D']= mean_nbrs.sum(axis=1)\n",
    "            nbrs_2d_dict[s, :, :] = mean_nbrs       "
   ]
  },
  {
   "cell_type": "code",
   "execution_count": null,
   "metadata": {},
   "outputs": [],
   "source": [
    "x = np.sum(nbrs_2d_dict, axis = 0)\n",
    "totals_2d_model = x[:,37]\n",
    "x = x[:, :-1]\n",
    "avaerage_2d_proportions = x/totals_2d_model[:, None]\n",
    "avaerage_2d_proportions = avaerage_2d_proportions*100\n",
    "avaerage_2d_proportions= pd.DataFrame(avaerage_2d_proportions)"
   ]
  },
  {
   "cell_type": "code",
   "execution_count": null,
   "metadata": {},
   "outputs": [],
   "source": [
    "ax = sns.clustermap(avaerage_2d_proportions, row_cluster = False, col_cluster = False)"
   ]
  },
  {
   "cell_type": "code",
   "execution_count": null,
   "metadata": {},
   "outputs": [],
   "source": [
    "new_names = [i+1 for i in list(avaerage_2d_proportions.columns.values)]\n",
    "avaerage_2d_proportions.columns = new_names\n",
    "new_names = [i+1 for i in list(avaerage_2d_proportions.index.values)]\n",
    "avaerage_2d_proportions.index = [str(i) for i in new_names]"
   ]
  },
  {
   "cell_type": "code",
   "execution_count": null,
   "metadata": {},
   "outputs": [],
   "source": [
    "avaerage_2d_proportions.index.values"
   ]
  },
  {
   "cell_type": "code",
   "execution_count": null,
   "metadata": {},
   "outputs": [],
   "source": [
    "divisionResults = nbrs_3D_norm.sub(avaerage_2d_proportions)\n",
    "ax = sns.clustermap(divisionResults, row_cluster = False, col_cluster = False, cmap=\"RdBu\" , vmin=-10, vmax=10)"
   ]
  },
  {
   "cell_type": "markdown",
   "metadata": {},
   "source": [
    "###### End of notebook"
   ]
  }
 ],
 "metadata": {
  "kernelspec": {
   "display_name": "Python 3",
   "language": "python",
   "name": "python3"
  },
  "language_info": {
   "codemirror_mode": {
    "name": "ipython",
    "version": 3
   },
   "file_extension": ".py",
   "mimetype": "text/x-python",
   "name": "python",
   "nbconvert_exporter": "python",
   "pygments_lexer": "ipython3",
   "version": "3.7.8"
  }
 },
 "nbformat": 4,
 "nbformat_minor": 4
}
