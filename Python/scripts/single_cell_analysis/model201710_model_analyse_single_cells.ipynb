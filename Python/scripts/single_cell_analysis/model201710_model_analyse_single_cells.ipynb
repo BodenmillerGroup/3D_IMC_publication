{
 "cells": [
  {
   "cell_type": "code",
   "execution_count": null,
   "metadata": {},
   "outputs": [],
   "source": [
    "from tifffile import imread, imsave\n",
    "import os, re, sys, csv, cv2\n",
    "\n",
    "import numpy as np\n",
    "import scanpy as sc\n",
    "import pandas as pd\n",
    "import matplotlib.pyplot as plt\n",
    "import seaborn as sns\n",
    "from matplotlib import rcParams\n",
    "\n",
    "import napari\n",
    "import copy\n",
    "from skimage.segmentation import find_boundaries\n",
    "from skimage.measure import shannon_entropy\n",
    "import phenograph\n",
    "\n",
    "sys.path.append('~/3D_IMC_paper/Python/python_3d_imc_tools')\n",
    "from io_files import image_filepath_for_3D_stack\n",
    "\n",
    "import random\n",
    "from sklearn.preprocessing import normalize as sk_normalize\n",
    "\n",
    "from napari.utils.colormaps.colormaps import Colormap\n",
    "from napari.utils.colormaps.standardize_color import transform_color\n",
    "from napari.utils.colormaps.colormaps import color_dict_to_colormap"
   ]
  },
  {
   "cell_type": "code",
   "execution_count": null,
   "metadata": {},
   "outputs": [],
   "source": [
    "def load_channel_stack_for_napari(channel_name_to_load, base_folder, missing, crop_im = True):\n",
    "    metal_folder = base_folder +\"/\" + channel_name_to_load\n",
    "    image_path1 = image_filepath_for_3D_stack(metal_folder)\n",
    "    image1 = imread(image_path1, pattern = None)\n",
    "    \n",
    "    if missing is not None:\n",
    "        missing_slice_image = np.mean( np.array([image1[missing-1, :,:],image1[missing+1,:,:]]), axis=0)\n",
    "        image1 =  np.insert(image1,missing, missing_slice_image, axis=0)\n",
    "    \n",
    "    for i in range(image1.shape[0]):\n",
    "        percent99 = np.percentile(image1[i, :,:], 99)\n",
    "        tmp_im = np.clip(image1[i, :,:],0,percent99)\n",
    "        tmp_im = cv2.normalize(tmp_im, None, alpha=0, beta=65535, norm_type=cv2.NORM_MINMAX, dtype=cv2.CV_16U)\n",
    "        image1[i, :,:] = cv2.GaussianBlur(tmp_im,(5,5),2)\n",
    "               \n",
    "    if crop_im == True:\n",
    "         image1 = image1[:, y_start:y_end,x_start:x_end]\n",
    "     \n",
    "    print('Max pixel value:', np.max(image1))\n",
    "    print('Median pixel value:', np.percentile(image1, 50))\n",
    "    return image1"
   ]
  },
  {
   "cell_type": "code",
   "execution_count": null,
   "metadata": {},
   "outputs": [],
   "source": [
    "# INPUT: single chanel TIFFs from the whole 3D model to use for \n",
    "#initial registeration i.e an image per slice\n",
    "input_base = '~/3D_model201710/3D_registred_tiffs/IMC_fullStack_registred/imageJ_registration/full_model_aligned/'\n",
    "\n",
    "\n",
    "labels_name = input_base + 'measured_mask_final_segmentation_hwatershed_500.00_90%.tif'\n",
    "stack_registred = input_base + 'SIMILARITY10_Nd148'\n",
    "\n",
    "measurements = input_base + 'model201710_mean_intensities.csv'\n",
    "lable_annotation = input_base + 'model201710_labels_area.csv'\n",
    "\n",
    "results_file = input_base +'model201710_singleCell_analysis.h5ad'  # the file that will store the analysis results\n",
    "cluster_labels_name = input_base + 'cluster_labels_image.tif'\n",
    "#overlapping area of the image stack ie the area for the full 3D model used for downstream data analysis. \n",
    "row_start = 448 #y\n",
    "row_end = 936 #y\n",
    "col_start = 386 #x\n",
    "col_end = 1038 #x\n"
   ]
  },
  {
   "cell_type": "markdown",
   "metadata": {},
   "source": [
    "##### Read in already existing single cell object or create a new one:"
   ]
  },
  {
   "cell_type": "code",
   "execution_count": null,
   "metadata": {},
   "outputs": [],
   "source": [
    "adata = sc.read_csv(measurements)\n",
    "extra_annotation = pd.read_csv(lable_annotation)\n",
    "adata.obs['cell_labels'] = list(extra_annotation['label'])\n",
    "adata.obs['cell_labels'] = adata.obs['cell_labels'].astype('category')\n",
    "adata.obs['cell_volume'] = list(extra_annotation['area'])\n",
    "adata.obs['cell_volume'] = adata.obs['cell_volume'].astype('int64')\n"
   ]
  },
  {
   "cell_type": "code",
   "execution_count": null,
   "metadata": {},
   "outputs": [],
   "source": [
    "#adata.write(results_file)"
   ]
  },
  {
   "cell_type": "code",
   "execution_count": null,
   "metadata": {},
   "outputs": [],
   "source": [
    "adata = sc.read_h5ad(results_file)"
   ]
  },
  {
   "cell_type": "code",
   "execution_count": null,
   "metadata": {},
   "outputs": [],
   "source": [
    "sc.set_figure_params(dpi=100, color_map = 'viridis_r')\n",
    "sc.settings.verbosity = 1\n"
   ]
  },
  {
   "cell_type": "code",
   "execution_count": null,
   "metadata": {},
   "outputs": [],
   "source": [
    "max_each_var = np.percentile(adata.X, 99, axis = 0)\n",
    "min_each_var = np.min(adata.X,0)\n",
    "range_var = max_each_var - min_each_var\n",
    "adata.X = adata.X - min_each_var\n",
    "adata.X = np.divide(adata.X, range_var)\n",
    "adata.X[adata.X>1] = 1\n",
    "\n",
    "sc.pp.neighbors(adata, n_neighbors=10,random_state = 111)\n",
    "sc.tl.umap(adata,random_state = 111)\n",
    "adata.write(results_file)"
   ]
  },
  {
   "cell_type": "code",
   "execution_count": null,
   "metadata": {},
   "outputs": [],
   "source": [
    "communities, graph, Q = phenograph.cluster(adata.X, k=10, primary_metric= 'manhattan', seed = 10)\n",
    "print(np.unique(communities))"
   ]
  },
  {
   "cell_type": "code",
   "execution_count": null,
   "metadata": {},
   "outputs": [],
   "source": [
    "largest = max(np.unique(communities))+1\n",
    "communities = [largest if x == 0 else x for x in communities]\n",
    "adata.obs['phenograph'] = pd.Categorical(communities)\n",
    "adata.write(results_file)"
   ]
  },
  {
   "cell_type": "code",
   "execution_count": null,
   "metadata": {},
   "outputs": [],
   "source": [
    "adata"
   ]
  },
  {
   "cell_type": "code",
   "execution_count": null,
   "metadata": {},
   "outputs": [],
   "source": [
    "#from R color brewer\n",
    "cluster_colors = ['#fde0dd','#1f78b4','#b2df8a','#33a02c','#fb9a99','#e31a1c','#fdbf6f','#ff7f00','#cab2d6','#6a3d9a',\n",
    "                  \"#f0b98d\", \"#ef9708\", \"#0fcfc0\",'#8dd3c7','#ffffb3','#bebada','#fb8072','#80b1d3','#fdb462','#b3de69',\n",
    "                  '#fccde5','#d9d9d9','#bc80bd','#ccebc5','#ffed6f','#8e0152','#c51b7d','#de77ae','#f1b6da','#fde0ef',\n",
    "                  '#e6f5d0','#b8e186','#7fbc41','#4d9221','#276419','#fde0dd','#fa9fb5','#c51b8a']"
   ]
  },
  {
   "cell_type": "code",
   "execution_count": null,
   "metadata": {},
   "outputs": [],
   "source": [
    "sc.pl.umap(adata,color=['phenograph'],palette=cluster_colors , save='_model201710_phenograph.pdf')"
   ]
  },
  {
   "cell_type": "code",
   "execution_count": null,
   "metadata": {},
   "outputs": [],
   "source": [
    "sc.pl.umap(adata, color=['E/P-Cadherin', 'panCK','vWF+ CD31'],  save='_model201710_umap_tumor_markers.pdf' )"
   ]
  },
  {
   "cell_type": "code",
   "execution_count": null,
   "metadata": {},
   "outputs": [],
   "source": [
    "sc.pl.umap(adata, color=['SMA', 'pS6', 'Vimentin'])"
   ]
  },
  {
   "cell_type": "code",
   "execution_count": null,
   "metadata": {},
   "outputs": [],
   "source": [
    "sc.pl.umap(adata, color=['CD8a', 'CD45', 'CD3', 'CD20', 'CD68'], save='_model201710_umap_immune_markers.pdf' )"
   ]
  },
  {
   "cell_type": "code",
   "execution_count": null,
   "metadata": {},
   "outputs": [],
   "source": [
    "rcParams['figure.figsize'] = 15,8\n",
    "sc.pl.violin(adata, ['cell_volume'], groupby='phenograph', stripplot=False, save = '_model201710_cell_volume_phenograph.pdf' )  # use stripplot=False to remove the internal dots"
   ]
  },
  {
   "cell_type": "code",
   "execution_count": null,
   "metadata": {},
   "outputs": [],
   "source": [
    "sc.pl.violin(adata, ['E/P-Cadherin','panCK'], groupby='phenograph')"
   ]
  },
  {
   "cell_type": "code",
   "execution_count": null,
   "metadata": {},
   "outputs": [],
   "source": [
    "sc.pl.violin(adata, ['CK7','CK8/18', 'CK14'], groupby='phenograph')"
   ]
  },
  {
   "cell_type": "code",
   "execution_count": null,
   "metadata": {},
   "outputs": [],
   "source": [
    "sc.pl.violin(adata, ['CK19','CK5'], groupby='phenograph')"
   ]
  },
  {
   "cell_type": "code",
   "execution_count": null,
   "metadata": {},
   "outputs": [],
   "source": [
    "sc.pl.violin(adata, ['CD20','CD3','CD45'], groupby='phenograph')"
   ]
  },
  {
   "cell_type": "code",
   "execution_count": null,
   "metadata": {},
   "outputs": [],
   "source": [
    "sc.pl.violin(adata, [ 'CD8a','CD68', 'MPO'], groupby='phenograph')"
   ]
  },
  {
   "cell_type": "code",
   "execution_count": null,
   "metadata": {},
   "outputs": [],
   "source": [
    "sc.pl.violin(adata, ['Histone H3', 'phospho-H3', 'Ir193'], groupby='phenograph')"
   ]
  },
  {
   "cell_type": "code",
   "execution_count": null,
   "metadata": {},
   "outputs": [],
   "source": [
    "sc.pl.violin(adata, [ 'SMA','vWF+ CD31','Vimentin'], groupby='phenograph')"
   ]
  },
  {
   "cell_type": "code",
   "execution_count": null,
   "metadata": {},
   "outputs": [],
   "source": [
    "sc.pl.violin(adata, [ 'CD44', 'HER2 (bis)'], groupby='phenograph')"
   ]
  },
  {
   "cell_type": "code",
   "execution_count": null,
   "metadata": {},
   "outputs": [],
   "source": [
    "sc.pl.violin(adata, ['CD138','pS6' , 'Collagen I' ], groupby='phenograph')"
   ]
  },
  {
   "cell_type": "code",
   "execution_count": null,
   "metadata": {},
   "outputs": [],
   "source": [
    "sc.pl.violin(adata, ['Ki-67','cPARP+cCasp3'], groupby='phenograph')"
   ]
  },
  {
   "cell_type": "code",
   "execution_count": null,
   "metadata": {},
   "outputs": [],
   "source": [
    "sc.pl.matrixplot(adata,adata.var_names, 'phenograph', dendrogram=True, cmap='Blues', \n",
    "                 colorbar_title='column scaled\\nexpression', save = '_model201710_median_expression_phenograph.pdf' ) #standard_scale='var', "
   ]
  },
  {
   "cell_type": "code",
   "execution_count": null,
   "metadata": {},
   "outputs": [],
   "source": [
    "vp = sc.pl.stacked_violin(adata, var_names=adata.var_names, groupby= 'phenograph', colorbar_title='Median expression',dendrogram=True, standard_scale=None, stripplot=True, \n",
    "                          jitter=False, size=1,return_fig=True, ax=None)  #row_palette=cluster_colors\n",
    "vp.add_totals()"
   ]
  },
  {
   "cell_type": "code",
   "execution_count": null,
   "metadata": {},
   "outputs": [],
   "source": [
    "vp.savefig('~/figures/stacked_violin_model201710_expression_phenograph.png')"
   ]
  },
  {
   "cell_type": "markdown",
   "metadata": {},
   "source": [
    "##### Plot cluster analysis for 3D rendering"
   ]
  },
  {
   "cell_type": "code",
   "execution_count": null,
   "metadata": {},
   "outputs": [],
   "source": [
    "labels = imread(labels_name, pattern = None)\n",
    "labels  = np.squeeze(labels )"
   ]
  },
  {
   "cell_type": "code",
   "execution_count": null,
   "metadata": {},
   "outputs": [],
   "source": [
    "boundaries_only = np.zeros(labels.shape, dtype = labels.dtype)\n",
    "k = 0 \n",
    "\n",
    "while k < boundaries_only.shape[0]: \n",
    "    slice_2D = labels[k, :,:]\n",
    "    boundaries_only[k,:,:] = find_boundaries(slice_2D, connectivity=1, mode='outer', background=0)\n",
    "    k  = k + 1\n",
    "with_boundaries_mask =np.multiply(np.logical_not(boundaries_only), labels)   "
   ]
  },
  {
   "cell_type": "code",
   "execution_count": null,
   "metadata": {},
   "outputs": [],
   "source": [
    "cluster_labels = list(adata.obs['phenograph'])\n",
    "object_labels = list(adata.obs['cell_labels'])\n"
   ]
  },
  {
   "cell_type": "code",
   "execution_count": null,
   "metadata": {},
   "outputs": [],
   "source": [
    "cluster_labels_image =copy.deepcopy(with_boundaries_mask)\n"
   ]
  },
  {
   "cell_type": "code",
   "execution_count": null,
   "metadata": {},
   "outputs": [],
   "source": [
    "for item in range(len(object_labels)):\n",
    "    obi = int(object_labels[item])\n",
    "    cluster_labels_image[with_boundaries_mask == obi] = int(cluster_labels[item])"
   ]
  },
  {
   "cell_type": "code",
   "execution_count": null,
   "metadata": {},
   "outputs": [],
   "source": [
    "cluster_labels_image =cluster_labels_image.astype('uint16')\n",
    "imsave(cluster_labels_name, cluster_labels_image)"
   ]
  },
  {
   "cell_type": "code",
   "execution_count": null,
   "metadata": {},
   "outputs": [],
   "source": [
    "cluster_labels_image = imread(cluster_labels_name, pattern = None)\n",
    "cluster_labels_image = np.squeeze(cluster_labels_image)"
   ]
  },
  {
   "cell_type": "code",
   "execution_count": null,
   "metadata": {},
   "outputs": [],
   "source": [
    "#from R color brewer. Remove first color if cluster -1 is present\n",
    "cluster_colors = ['#1f78b4','#b2df8a','#33a02c','#fb9a99','#e31a1c','#fdbf6f','#ff7f00','#cab2d6','#6a3d9a',\n",
    "                  \"#f0b98d\", \"#ef9708\", \"#0fcfc0\",'#8dd3c7','#ffffb3','#bebada','#fb8072','#80b1d3','#fdb462','#b3de69',\n",
    "                  '#fccde5','#d9d9d9','#bc80bd','#ccebc5','#ffed6f','#8e0152','#c51b7d','#de77ae','#f1b6da','#fde0ef',\n",
    "                  '#e6f5d0','#b8e186','#7fbc41','#4d9221','#276419','#fde0dd','#fa9fb5','#c51b8a']\n",
    "\n",
    "cluster_colors_napari = copy.deepcopy(cluster_colors)\n",
    "cluster_colors_napari.insert(0,'#000000')\n",
    "cmap = Colormap(transform_color(cluster_colors_napari))"
   ]
  },
  {
   "cell_type": "code",
   "execution_count": null,
   "metadata": {},
   "outputs": [],
   "source": [
    "#assumes that colors in the color_map are ordered according to ascending order of cluter numbers\n",
    "napari_color_dict = {}\n",
    "i=0\n",
    "while i < len(cluster_colors_napari):\n",
    "    napari_color_dict[i] = cluster_colors_napari[i]\n",
    "    i +=1"
   ]
  },
  {
   "cell_type": "code",
   "execution_count": null,
   "metadata": {},
   "outputs": [],
   "source": [
    "colors = {\n",
    "            label: transform_color(color_str)[0]\n",
    "            for label, color_str in napari_color_dict.items()\n",
    "        }\n"
   ]
  },
  {
   "cell_type": "code",
   "execution_count": null,
   "metadata": {},
   "outputs": [],
   "source": [
    "scale_factors = [2,1,1]"
   ]
  },
  {
   "cell_type": "code",
   "execution_count": null,
   "metadata": {},
   "outputs": [],
   "source": [
    "channel_1= 'Ir191'\n",
    "stack1 = load_channel_stack_for_napari(channel_1,stack_registred, None,False )\n",
    "channel_2= 'Lu175'\n",
    "stack2 = load_channel_stack_for_napari(channel_2,stack_registred, None,False )"
   ]
  },
  {
   "cell_type": "code",
   "execution_count": null,
   "metadata": {},
   "outputs": [],
   "source": [
    "with napari.gui_qt():\n",
    "    viewer = napari.view_image(labels)"
   ]
  },
  {
   "cell_type": "code",
   "execution_count": null,
   "metadata": {},
   "outputs": [],
   "source": [
    "with napari.gui_qt():\n",
    "    viewer = napari.view_image(stack1[:,row_start:row_end,col_start:col_end], name = channel_1, scale = scale_factors)\n",
    "    viewer.add_image(stack2[:,row_start:row_end,col_start:col_end], name = channel_2, scale = scale_factors)\n",
    "    viewer.add_labels(cluster_labels_image, name='clusters', color = colors, scale = scale_factors)\n",
    "    viewer.add_labels(labels, name='segmentation', scale = scale_factors)\n"
   ]
  },
  {
   "cell_type": "markdown",
   "metadata": {},
   "source": [
    "##### Vizualise specific clusters of interest"
   ]
  },
  {
   "cell_type": "code",
   "execution_count": null,
   "metadata": {},
   "outputs": [],
   "source": [
    "channel_1= 'Ir191'\n",
    "stack1 = load_channel_stack_for_napari(channel_1,stack_registred, None,False )\n",
    "channel_2= 'Yb172'\n",
    "stack2 = load_channel_stack_for_napari(channel_2,stack_registred, None,False )"
   ]
  },
  {
   "cell_type": "code",
   "execution_count": null,
   "metadata": {},
   "outputs": [],
   "source": [
    "cluster_labels_image_subset = copy.deepcopy(cluster_labels_image)\n",
    "unique_clusters = list(np.unique(cluster_labels_image_subset))\n",
    "clusters_to_display = [18]\n",
    "for i in unique_clusters:\n",
    "    if i not in clusters_to_display:\n",
    "        cluster_labels_image_subset[cluster_labels_image_subset==i] = 0\n",
    "image_name = input_base + 'cluster18_cd3_cluster_labels_image.tif'\n",
    "imsave(image_name, cluster_labels_image_subset)"
   ]
  },
  {
   "cell_type": "code",
   "execution_count": null,
   "metadata": {},
   "outputs": [],
   "source": [
    "with napari.gui_qt():\n",
    "    viewer = napari.view_image(stack2[:,row_start:row_end,col_start:col_end],contrast_limits= [0,65535],colormap = 'red', name = channel_2, scale = scale_factors)\n",
    "    viewer.add_image(stack1[:,row_start:row_end,col_start:col_end], name = channel_1, scale = scale_factors)\n",
    "    viewer.add_image(cluster_labels_image_subset, name='blood vessels', scale = scale_factors)\n",
    "    viewer.add_labels(cluster_labels_image, name='clusters', color = colors, scale = scale_factors)"
   ]
  },
  {
   "cell_type": "markdown",
   "metadata": {},
   "source": [
    "##### Display expression values of a select marker of interest on cells"
   ]
  },
  {
   "cell_type": "code",
   "execution_count": null,
   "metadata": {},
   "outputs": [],
   "source": [
    "cell_labels_select_markers = copy.deepcopy(with_boundaries_mask)\n",
    "cell_labels_select_markers =cell_labels_select_markers.astype('int32')"
   ]
  },
  {
   "cell_type": "code",
   "execution_count": null,
   "metadata": {},
   "outputs": [],
   "source": [
    "marker_of_interest = 'SMA'\n",
    "dict_mean_SMA = {}\n",
    "\n",
    "for x in range(len(adata.obs['cell_labels'])):\n",
    "    object_label = adata.obs['cell_labels'][x]\n",
    "    a_marker = adata[adata.obs['cell_labels']== object_label, marker_of_interest]\n",
    "    dict_mean_SMA[object_label] = float(a_marker.X)"
   ]
  },
  {
   "cell_type": "code",
   "execution_count": null,
   "metadata": {},
   "outputs": [],
   "source": [
    "mean_marker_image = np.zeros(cell_labels_select_markers.shape)\n",
    "for key in dict_mean_SMA.keys():\n",
    "    mean_marker_image[cell_labels_select_markers == key] = round(dict_mean_SMA[key],3)"
   ]
  },
  {
   "cell_type": "code",
   "execution_count": null,
   "metadata": {},
   "outputs": [],
   "source": [
    "cell_mean_select_markers_name = input_base + 'SMA_mean_labels_image.tif'\n",
    "imsave(cell_mean_select_markers_name,mean_marker_image)    "
   ]
  },
  {
   "cell_type": "code",
   "execution_count": null,
   "metadata": {},
   "outputs": [],
   "source": [
    "cell_labels_select_markers = copy.deepcopy(with_boundaries_mask)\n",
    "cell_labels_select_markers =cell_labels_select_markers.astype('int32')\n",
    "\n",
    "marker_of_interest = 'CD68'\n",
    "dict_mean_SMA = {}\n",
    "\n",
    "for x in range(len(adata.obs['cell_labels'])):\n",
    "    object_label = adata.obs['cell_labels'][x]\n",
    "    a_marker = adata[adata.obs['cell_labels']== object_label, marker_of_interest]\n",
    "    dict_mean_SMA[object_label] = float(a_marker.X)\n",
    "\n",
    "mean_marker_image = np.zeros(cell_labels_select_markers.shape)\n",
    "for key in dict_mean_SMA.keys():\n",
    "    mean_marker_image[cell_labels_select_markers == key] = round(dict_mean_SMA[key],3)\n",
    "\n",
    "cell_mean_select_markers_name = input_base + 'CD68_mean_labels_image.tif'\n",
    "imsave(cell_mean_select_markers_name,mean_marker_image) "
   ]
  },
  {
   "cell_type": "code",
   "execution_count": null,
   "metadata": {},
   "outputs": [],
   "source": [
    "channel_name_to_load ='Nd146'\n",
    "met_folder = stack_registred +\"/\" + channel_name_to_load\n",
    "image_path1 = image_filepath_for_3D_stack(met_folder)\n",
    "image1 = imread(image_path1, pattern = None)\n",
    "image1 = np.squeeze(image1)\n",
    "image1 = image1[:,row_start:row_end,col_start:col_end]\n",
    "im_name = input_base + 'cd68_ROI_image.tif'\n",
    "imsave(im_name,image1) "
   ]
  },
  {
   "cell_type": "markdown",
   "metadata": {},
   "source": [
    "##### End of Notebook"
   ]
  }
 ],
 "metadata": {
  "kernelspec": {
   "display_name": "Python 3",
   "language": "python",
   "name": "python3"
  },
  "language_info": {
   "codemirror_mode": {
    "name": "ipython",
    "version": 3
   },
   "file_extension": ".py",
   "mimetype": "text/x-python",
   "name": "python",
   "nbconvert_exporter": "python",
   "pygments_lexer": "ipython3",
   "version": "3.7.8"
  }
 },
 "nbformat": 4,
 "nbformat_minor": 4
}
