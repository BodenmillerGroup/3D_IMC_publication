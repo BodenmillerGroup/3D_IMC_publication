{
 "cells": [
  {
   "cell_type": "code",
   "execution_count": null,
   "metadata": {},
   "outputs": [],
   "source": [
    "from tifffile import imread, imsave\n",
    "import os, re, sys, csv\n",
    "import numpy as np\n",
    "import matplotlib.pyplot as pyp\n",
    "from skimage.morphology import ball\n",
    "from skimage.segmentation import find_boundaries\n",
    "from skimage.measure import regionprops, regionprops_table, label\n",
    "from skimage.segmentation import clear_border\n",
    "import cv2\n",
    "import copy\n",
    "import pandas as pd\n",
    "from scipy import ndimage as ndi\n",
    "import napari\n",
    "import scanpy as sc\n",
    "import seaborn as sns\n",
    "from skimage.future.graph import RAG, rag_mean_color\n",
    "import math\n",
    "sys.path.append('~/3D_IMC_paper/Python/python_3d_imc_tools')\n",
    "from io_files import image_filepath_for_3D_stack\n",
    "import phenograph\n",
    "import pickle\n"
   ]
  },
  {
   "cell_type": "code",
   "execution_count": null,
   "metadata": {},
   "outputs": [],
   "source": [
    "## function from skimage package https://github.com/scikit-image/scikit-image/blob/main/skimage/measure/_regionprops.py#L869-L1161\n",
    "\n",
    "COL_DTYPES = {\n",
    "    'area': int,\n",
    "    'bbox': int,\n",
    "    'bbox_area': int,\n",
    "    'moments_central': float,\n",
    "    'centroid': float,\n",
    "    'convex_area': int,\n",
    "    'convex_image': object,\n",
    "    'coords': object,\n",
    "    'eccentricity': float,\n",
    "    'equivalent_diameter': float,\n",
    "    'euler_number': int,\n",
    "    'extent': float,\n",
    "    'feret_diameter_max': float,\n",
    "    'filled_area': int,\n",
    "    'filled_image': object,\n",
    "    'moments_hu': float,\n",
    "    'image': object,\n",
    "    'inertia_tensor': float,\n",
    "    'inertia_tensor_eigvals': float,\n",
    "    'intensity_image': object,\n",
    "    'label': int,\n",
    "    'local_centroid': float,\n",
    "    'major_axis_length': float,\n",
    "    'max_intensity': int,\n",
    "    'mean_intensity': float,\n",
    "    'min_intensity': int,\n",
    "    'minor_axis_length': float,\n",
    "    'moments': float,\n",
    "    'moments_normalized': float,\n",
    "    'orientation': float,\n",
    "    'perimeter': float,\n",
    "    'slice': object,\n",
    "    'solidity': float,\n",
    "    'weighted_moments_central': float,\n",
    "    'weighted_centroid': float,\n",
    "    'weighted_moments_hu': float,\n",
    "    'weighted_local_centroid': float,\n",
    "    'weighted_moments': float,\n",
    "    'weighted_moments_normalized': float\n",
    "}\n",
    "\n",
    "OBJECT_COLUMNS = {\n",
    "    'image', 'coords', 'convex_image', 'slice',\n",
    "    'filled_image', 'intensity_image'\n",
    "}\n",
    "\n",
    "def  skimage_props_to_dict(regions, properties=('label', 'bbox'), separator='-'):\n",
    "    \"\"\"Convert image region properties list into a column dictionary.\"\"\"\n",
    "\n",
    "    out = {}\n",
    "    n = len(regions)\n",
    "    for prop in properties:\n",
    "        r = regions[0]\n",
    "        rp = getattr(r, prop)\n",
    "        if prop in COL_DTYPES:\n",
    "            dtype = COL_DTYPES[prop]\n",
    "        else:\n",
    "            func = r._extra_properties[prop]\n",
    "            dtype = _infer_regionprop_dtype(\n",
    "                func,\n",
    "                intensity=r._intensity_image is not None,\n",
    "                ndim=r.image.ndim,\n",
    "            )\n",
    "        column_buffer = np.zeros(n, dtype=dtype)\n",
    "\n",
    "        # scalars and objects are dedicated one column per prop\n",
    "        # array properties are raveled into multiple columns\n",
    "        # for more info, refer to notes 1\n",
    "        if np.isscalar(rp) or prop in OBJECT_COLUMNS or dtype is np.object_:\n",
    "            for i in range(n):\n",
    "                column_buffer[i] = regions[i][prop]\n",
    "            out[prop] = np.copy(column_buffer)\n",
    "        else:\n",
    "            if isinstance(rp, np.ndarray):\n",
    "                shape = rp.shape\n",
    "            else:\n",
    "                shape = (len(rp),)\n",
    "\n",
    "            for ind in np.ndindex(shape):\n",
    "                for k in range(n):\n",
    "                    loc = ind if len(ind) > 1 else ind[0]\n",
    "                    column_buffer[k] = regions[k][prop][loc]\n",
    "                modified_prop = separator.join(map(str, (prop,) + ind))\n",
    "                out[modified_prop] = np.copy(column_buffer)\n",
    "    return out"
   ]
  },
  {
   "cell_type": "markdown",
   "metadata": {},
   "source": [
    "### Set inputs"
   ]
  },
  {
   "cell_type": "code",
   "execution_count": null,
   "metadata": {},
   "outputs": [],
   "source": [
    "# INPUT: single chanel TIFFs from the whole 3D model to use for \n",
    "\n",
    "#folder for registeration i.e an image per slice\n",
    "input_base = '~/3D_registred_tiffs/IMC_fullStack_registred/imageJ_registration/full_model_aligned/'\n",
    "cell_labels_input = input_base + \"measured_mask_final_segmentation_hwatershed_500.00_90%.tif\"\n",
    "\n",
    "results_file = input_base +'model201710_singleCell_analysis.h5ad'  # the file that will store the analysis results\n",
    "panCK_mean_expression_image = input_base + \"panCK_mean_labels_image.tif\"\n",
    "cluster_labels_image = input_base + \"cluster_labels_image.tif\""
   ]
  },
  {
   "cell_type": "code",
   "execution_count": null,
   "metadata": {},
   "outputs": [],
   "source": [
    "adata = sc.read_h5ad(results_file)\n",
    "o = list(adata.obs['phenograph'])\n",
    "c = list(adata.obs['cell_labels'])\n",
    "\n",
    "cluster_cell_label_dictionary = {}\n",
    "\n",
    "for item in range(len(o)):\n",
    "    dict_key = int(c[item])\n",
    "    cluster_cell_label_dictionary[dict_key]= o[item]"
   ]
  },
  {
   "cell_type": "code",
   "execution_count": null,
   "metadata": {},
   "outputs": [],
   "source": [
    "cell_labels = imread(cell_labels_input)\n",
    "panCK_mean_X = imread(panCK_mean_expression_image)\n",
    "cluster_labels = imread(cluster_labels_image)"
   ]
  },
  {
   "cell_type": "code",
   "execution_count": null,
   "metadata": {},
   "outputs": [],
   "source": [
    "with napari.gui_qt():\n",
    "    viewer = napari.view_image(cell_labels[60:, :350, :200] , scale = [2,1,1])"
   ]
  },
  {
   "cell_type": "code",
   "execution_count": null,
   "metadata": {},
   "outputs": [],
   "source": [
    "ROI_image = cell_labels[60:, :350, :200]\n",
    "ROI_cluster_im = copy.deepcopy(ROI_image)\n",
    "labels_ROI = np.unique(ROI_image)"
   ]
  },
  {
   "cell_type": "markdown",
   "metadata": {},
   "source": [
    "Set up dictionaries to link cell labels to clusters"
   ]
  },
  {
   "cell_type": "code",
   "execution_count": null,
   "metadata": {},
   "outputs": [],
   "source": [
    "\n",
    "for i in labels_ROI:\n",
    "    if i ==0:\n",
    "        continue\n",
    "    else:\n",
    "        ROI_cluster  _im[ROI_cluster_im == i] = int(cluster_cell_label_dictionary[i])"
   ]
  },
  {
   "cell_type": "code",
   "execution_count": null,
   "metadata": {},
   "outputs": [],
   "source": [
    "with napari.gui_qt():\n",
    "    viewer = napari.view_image(panCK_mean_X, scale = [2,1,1])\n",
    "    #viewer.add_labels(ROI_cluster_im, scale = [2,1,1])"
   ]
  },
  {
   "cell_type": "code",
   "execution_count": null,
   "metadata": {},
   "outputs": [],
   "source": [
    "index_labels = []\n",
    "for x in labels_ROI:\n",
    "    if x == 0:\n",
    "        continue\n",
    "    else:\n",
    "        i = c.index(x)\n",
    "        index_labels.append(i)"
   ]
  },
  {
   "cell_type": "markdown",
   "metadata": {},
   "source": [
    "#### overlay panCK expression for the ROI of interest. \n",
    "Only visaulize a part of the model where the invasive clusters are present. Click on each invasive cell to extract the cell labels"
   ]
  },
  {
   "cell_type": "code",
   "execution_count": null,
   "metadata": {},
   "outputs": [],
   "source": [
    "marker_of_interest = 'panCK'\n",
    "dict_mean = {}\n",
    "\n",
    "for x in index_labels:\n",
    "    object_label = adata.obs['cell_labels'][x]\n",
    "    a_marker = adata[adata.obs['cell_labels']== object_label, marker_of_interest]\n",
    "    dict_mean[object_label] = float(a_marker.X)"
   ]
  },
  {
   "cell_type": "code",
   "execution_count": null,
   "metadata": {},
   "outputs": [],
   "source": [
    "mean_marker_image = np.zeros(ROI_image.shape)\n",
    "for key in dict_mean.keys():\n",
    "    mean_marker_image[ROI_image == key] = round(dict_mean[key],3)"
   ]
  },
  {
   "cell_type": "code",
   "execution_count": null,
   "metadata": {},
   "outputs": [],
   "source": [
    "tumor_cells_ROI = copy.deepcopy(ROI_image)\n",
    "for x in dict_mean.keys():\n",
    "    panCK_val = dict_mean[x]\n",
    "    if panCK_val < 0.05:\n",
    "        tumor_cells_ROI[tumor_cells_ROI == x] = 0"
   ]
  },
  {
   "cell_type": "code",
   "execution_count": null,
   "metadata": {},
   "outputs": [],
   "source": [
    "roi_name = input_base + \"panCK_ROI_marker_xpression_INVASIVE_image.tif\"\n",
    "roi_labels_name = input_base + \"ROI_INVASIVE_labels_image.tif\"\n",
    "\n",
    "imsave(roi_labels_name,tumor_cells_ROI) \n",
    "imsave(roi_name,mean_marker_image) \n"
   ]
  },
  {
   "cell_type": "code",
   "execution_count": null,
   "metadata": {},
   "outputs": [],
   "source": [
    "mean_marker_image = imread(input_base + \"panCK_ROI_marker_xpression_INVASIVE_image.tif\")\n",
    "tumor_cells_ROI = imread(input_base + \"ROI_INVASIVE_labels_image.tif\")\n",
    "panCK = imread(input_base + 'panCK_ROI_image.tif')"
   ]
  },
  {
   "cell_type": "code",
   "execution_count": null,
   "metadata": {},
   "outputs": [],
   "source": [
    "with napari.gui_qt():\n",
    "    viewer = napari.view_image(panCK[60:, :350, :200] , scale = [1,1,1])\n",
    "    label_layer = viewer.add_labels(tumor_cells_ROI, scale = [1,1,1])\n",
    "    @label_layer.mouse_drag_callbacks.append\n",
    "    def callback(layer, event):\n",
    "        #print(event)\n",
    "        print(layer._value)  # (0,0) is the center of the upper left pixel"
   ]
  },
  {
   "cell_type": "markdown",
   "metadata": {},
   "source": [
    "#### Use list of objects of interest"
   ]
  },
  {
   "cell_type": "code",
   "execution_count": null,
   "metadata": {},
   "outputs": [],
   "source": [
    "ooo = open(\"invasive_object_list_of_labels\", 'r')\n",
    "o0 = set(ooo)\n",
    "invasive_obi = list(o0)\n",
    "invasive_obi = invasive_obi[1:]"
   ]
  },
  {
   "cell_type": "code",
   "execution_count": null,
   "metadata": {},
   "outputs": [],
   "source": [
    "len(invasive_obi)"
   ]
  },
  {
   "cell_type": "markdown",
   "metadata": {},
   "source": [
    "Create a new adata object that only contains the invasive cells to then cluster the cells and visualize with heatmap"
   ]
  },
  {
   "cell_type": "code",
   "execution_count": null,
   "metadata": {},
   "outputs": [],
   "source": [
    "adata = sc.read_h5ad(results_file)\n",
    "o = list(adata.obs['phenograph'])\n",
    "c = list(adata.obs['cell_labels'])\n",
    "\n",
    "cluster_cell_label_dictionary = {}\n",
    "\n",
    "for item in range(len(o)):\n",
    "    dict_key = int(c[item])\n",
    "    cluster_cell_label_dictionary[dict_key]= o[item]"
   ]
  },
  {
   "cell_type": "code",
   "execution_count": null,
   "metadata": {},
   "outputs": [],
   "source": [
    "index_labels = []\n",
    "for x in invasive_obi:\n",
    "        i = c.index(x)\n",
    "        index_labels.append(i)"
   ]
  },
  {
   "cell_type": "code",
   "execution_count": null,
   "metadata": {},
   "outputs": [],
   "source": [
    "invasive_ROI = adata[index_labels]"
   ]
  },
  {
   "cell_type": "code",
   "execution_count": null,
   "metadata": {},
   "outputs": [],
   "source": [
    "sc.pp.neighbors(invasive_ROI, n_neighbors=10,random_state = 111)"
   ]
  },
  {
   "cell_type": "markdown",
   "metadata": {},
   "source": [
    "Use python implementation of phenograph: https://github.com/jacoblevine/PhenoGraph"
   ]
  },
  {
   "cell_type": "code",
   "execution_count": null,
   "metadata": {},
   "outputs": [],
   "source": [
    "communities, graph, Q = phenograph.cluster(invasive_ROI.X, k=10, primary_metric= 'manhattan', seed = 10)\n",
    "print(np.unique(communities))"
   ]
  },
  {
   "cell_type": "code",
   "execution_count": null,
   "metadata": {},
   "outputs": [],
   "source": [
    "largest = max(np.unique(communities))+1\n",
    "communities = [largest if x == 0 else x for x in communities]\n",
    "invasive_ROI.obs['phenograph'] = pd.Categorical(communities)"
   ]
  },
  {
   "cell_type": "code",
   "execution_count": null,
   "metadata": {},
   "outputs": [],
   "source": [
    "sc.set_figure_params(dpi=100, color_map = 'viridis_r')\n",
    "sc.settings.verbosity = 1"
   ]
  },
  {
   "cell_type": "code",
   "execution_count": null,
   "metadata": {},
   "outputs": [],
   "source": [
    "sc.pl.matrixplot(invasive_ROI,invasive_ROI.var_names, 'phenograph', dendrogram=True, cmap='Blues', \n",
    "                 colorbar_title='column scaled\\nexpression', save = '_invasive_cells_model201710_median_expression_phenograph.pdf' )"
   ]
  },
  {
   "cell_type": "code",
   "execution_count": null,
   "metadata": {},
   "outputs": [],
   "source": [
    "vp = sc.pl.stacked_violin(invasive_ROI, var_names=invasive_ROI.var_names, groupby= 'phenograph', colorbar_title='Median expression',dendrogram=True, standard_scale=None, stripplot=True, \n",
    "                          jitter=False, size=1,return_fig=True, ax=None)  #row_palette=cluster_colors\n",
    "vp.add_totals()"
   ]
  },
  {
   "cell_type": "code",
   "execution_count": null,
   "metadata": {},
   "outputs": [],
   "source": [
    "vp.savefig('~/figures/stacked_violin__INVASIVE_cells_model201710_expression_phenograph.png')"
   ]
  },
  {
   "cell_type": "markdown",
   "metadata": {},
   "source": [
    "#### Add invasive clusters as seperate cluster grouping to the initial adata contatining all the cells"
   ]
  },
  {
   "cell_type": "code",
   "execution_count": null,
   "metadata": {},
   "outputs": [],
   "source": [
    "#categorize clusters into epithelial, basal etc to compare marker expression between invasive cells and all other cells in the model\n",
    "invasive_cluster_assignment = []\n",
    "epithelial_clusters = [4,6,3,37,2,1,7,5, 11, 20, 23, 24, 31,32, 33,34,35]\n",
    "basal_clusters = [19]\n",
    "for item in range(len(o)):\n",
    "    obi = int(c[item])\n",
    "    if obi in invasive_obi:\n",
    "        invasive_cluster_assignment.append('invasive')\n",
    "    else:\n",
    "        c_label = int(o[item])\n",
    "        if c_label in epithelial_clusters:\n",
    "            invasive_cluster_assignment.append('epithelial')\n",
    "        elif c_label in basal_clusters:\n",
    "            invasive_cluster_assignment.append('basal')\n",
    "        else:\n",
    "            invasive_cluster_assignment.append('other')"
   ]
  },
  {
   "cell_type": "code",
   "execution_count": null,
   "metadata": {},
   "outputs": [],
   "source": [
    "adata.obs['invasive'] = pd.Categorical(invasive_cluster_assignment)"
   ]
  },
  {
   "cell_type": "code",
   "execution_count": null,
   "metadata": {},
   "outputs": [],
   "source": [
    "sc.set_figure_params(dpi=150, fontsize=12,figsize='6,6')\n",
    "\n",
    "sc.pl.violin(adata, ['E/P-Cadherin','panCK','HER2 (bis)','CK7'], groupby='invasive', order = ['invasive', 'epithelial', 'basal', 'other'])"
   ]
  },
  {
   "cell_type": "code",
   "execution_count": null,
   "metadata": {},
   "outputs": [],
   "source": [
    "sc.set_figure_params(dpi=150, fontsize=12,figsize='6,6')\n",
    "\n",
    "sc.pl.violin(adata, ['CK8/18','CK19','CK5','CK14'], groupby='invasive', order = ['invasive', 'epithelial', 'basal', 'other'])"
   ]
  },
  {
   "cell_type": "code",
   "execution_count": null,
   "metadata": {},
   "outputs": [],
   "source": [
    "sc.set_figure_params(dpi=150, fontsize=12,figsize='6,6')\n",
    "\n",
    "sc.pl.violin(adata, [ 'CD44', 'CD138',  'Vimentin','pS6'], groupby='invasive',  order = ['invasive', 'epithelial', 'basal', 'other'])"
   ]
  },
  {
   "cell_type": "code",
   "execution_count": null,
   "metadata": {},
   "outputs": [],
   "source": [
    "sc.set_figure_params(dpi=150, fontsize=12,figsize='6,6')\n",
    "\n",
    "sc.pl.violin(adata, ['Ki-67','cPARP+cCasp3', 'phospho-H3', 'Ir193'], groupby='invasive',  order = ['invasive', 'epithelial', 'basal', 'other'])"
   ]
  },
  {
   "cell_type": "markdown",
   "metadata": {},
   "source": [
    "### Calculate invasive cluster neighbors\n",
    "First calculate Euclidean distance between the centroid of all the objects in the model, but only recorde the cell label for objects whose distance is within 50um., Then for the invasive cells extract the cell label for cells that are within 50um radius."
   ]
  },
  {
   "cell_type": "code",
   "execution_count": null,
   "metadata": {},
   "outputs": [],
   "source": [
    "object_diameter_im=regionprops(cell_labels)\n",
    "object_centroid_dict =dict()\n",
    "object_centroid_dict = skimage_props_to_dict(object_diameter_im, properties=['label','centroid'])"
   ]
  },
  {
   "cell_type": "code",
   "execution_count": null,
   "metadata": {},
   "outputs": [],
   "source": [
    "centroid_table = pd.DataFrame.from_dict(object_centroid_dict)\n",
    "centroid_dict_3d = centroid_table.to_dict('index')"
   ]
  },
  {
   "cell_type": "code",
   "execution_count": null,
   "metadata": {},
   "outputs": [],
   "source": [
    "distance_between_cells_dict = {}\n",
    "\n",
    "for key in centroid_dict_3d.keys():\n",
    "    \n",
    "    cell_label = centroid_dict_3d[key]['label']\n",
    "    distance_between_cells_dict[cell_label] = []\n",
    "\n",
    "    z = centroid_dict_3d[key]['centroid-0']\n",
    "    y = centroid_dict_3d[key]['centroid-1']\n",
    "    x = centroid_dict_3d[key]['centroid-2']\n",
    "\n",
    "    for other in centroid_dict_3d.keys():\n",
    "\n",
    "        if other == key:\n",
    "            continue\n",
    "        else:\n",
    "\n",
    "            cell_label_other = centroid_dict_3d[other]['label']\n",
    "            z_other = centroid_dict_3d[other]['centroid-0']\n",
    "            y_other = centroid_dict_3d[other]['centroid-1']\n",
    "            x_other = centroid_dict_3d[other]['centroid-2']\n",
    "\n",
    "            distance_between_cells = math.sqrt((z_other-z)**2 + (y_other-y)**2 + (x_other-x)**2)\n",
    "            \n",
    "            if distance_between_cells <= 50:\n",
    "                distance_between_cells_dict[cell_label].append(cell_label_other) \n",
    "\n"
   ]
  },
  {
   "cell_type": "code",
   "execution_count": null,
   "metadata": {},
   "outputs": [],
   "source": [
    "import pickle\n",
    "def save_obj(obj, name ):\n",
    "    with open(name, 'wb+') as f:\n",
    "        pickle.dump(obj, f, pickle.HIGHEST_PROTOCOL)\n",
    "\n",
    "def load_obj(name):\n",
    "    with open(name, 'rb') as f:\n",
    "        return pickle.load(f)"
   ]
  },
  {
   "cell_type": "code",
   "execution_count": null,
   "metadata": {},
   "outputs": [],
   "source": [
    "out_dict_name = input_base + 'neighbors_50um_3D.pkl'\n",
    "save_obj(distance_between_cells_dict, out_dict_name)"
   ]
  },
  {
   "cell_type": "code",
   "execution_count": null,
   "metadata": {},
   "outputs": [],
   "source": [
    "out_dict_name = input_base + 'neighbors_50um_3D.pkl'\n",
    "\n",
    "distance_between_cells_dict = load_obj(out_dict_name) "
   ]
  },
  {
   "cell_type": "code",
   "execution_count": null,
   "metadata": {},
   "outputs": [],
   "source": [
    "invasive_TME = []\n",
    "for key in distance_between_cells_dict.keys():\n",
    "    if key in invasive_obi:\n",
    "            components = distance_between_cells_dict[key]\n",
    "            for element in components:\n",
    "                invasive_TME.append(element)"
   ]
  },
  {
   "cell_type": "code",
   "execution_count": null,
   "metadata": {},
   "outputs": [],
   "source": [
    "invasive_TME_clusters = {}\n",
    "for item in invasive_TME:\n",
    "    invasive_TME_clusters[item] = str(cluster_cell_label_dictionary[item])"
   ]
  },
  {
   "cell_type": "code",
   "execution_count": null,
   "metadata": {},
   "outputs": [],
   "source": [
    "tme_table = pd.DataFrame.from_dict(invasive_TME_clusters, 'index')"
   ]
  },
  {
   "cell_type": "code",
   "execution_count": null,
   "metadata": {},
   "outputs": [],
   "source": [
    "tme_table.value_counts().sort_values().plot(kind = 'barh', figsize=(10,10))"
   ]
  },
  {
   "cell_type": "code",
   "execution_count": null,
   "metadata": {},
   "outputs": [],
   "source": [
    "invasive_TME_assignment = []\n",
    "epithelial_clusters = [4,6,3,37,2,1,7,5, 11, 20, 23, 24, 31,32, 33,34,35]\n",
    "basal_clusters = [19]\n",
    "stroma_clusters = [8,9,29,14,10,15,12,17,22, 26, 27]\n",
    "for item in range(len(o)):\n",
    "    obi = int(c[item])\n",
    "    c_label = int(o[item])\n",
    "    if obi in invasive_TME:\n",
    "        if c_label in epithelial_clusters:\n",
    "            invasive_TME_assignment.append('invasive_epithelial')\n",
    "        elif c_label in basal_clusters:\n",
    "            invasive_TME_assignment.append('invasive_basal')\n",
    "        elif c_label in stroma_clusters:\n",
    "            invasive_TME_assignment.append('invasive_stroma')\n",
    "        else:\n",
    "            invasive_TME_assignment.append('invasive_other')    \n",
    "    else:\n",
    "        if c_label in epithelial_clusters:\n",
    "            invasive_TME_assignment.append('epithelial')\n",
    "        elif c_label in basal_clusters:\n",
    "            invasive_TME_assignment.append('basal')\n",
    "        elif c_label in stroma_clusters:\n",
    "            invasive_TME_assignment.append('stroma')    \n",
    "        else:\n",
    "            invasive_TME_assignment.append('other')"
   ]
  },
  {
   "cell_type": "code",
   "execution_count": null,
   "metadata": {},
   "outputs": [],
   "source": [
    "adata.obs['invasive_TME'] = pd.Categorical(invasive_TME_assignment)"
   ]
  },
  {
   "cell_type": "markdown",
   "metadata": {},
   "source": [
    "Plot marker expression for the invasive TME"
   ]
  },
  {
   "cell_type": "code",
   "execution_count": null,
   "metadata": {},
   "outputs": [],
   "source": [
    "sc.set_figure_params(dpi=100, fontsize=5,figsize='6,6')\n",
    "sc.settings.verbosity = 1"
   ]
  },
  {
   "cell_type": "code",
   "execution_count": null,
   "metadata": {},
   "outputs": [],
   "source": [
    "sc.pl.violin(adata, ['E/P-Cadherin','panCK','CK7','CK8/18', 'CK14'], groupby='invasive_TME')"
   ]
  },
  {
   "cell_type": "code",
   "execution_count": null,
   "metadata": {},
   "outputs": [],
   "source": [
    "sc.pl.violin(adata, ['CK19','CK5', 'Vimentin'], groupby='invasive_TME')"
   ]
  },
  {
   "cell_type": "code",
   "execution_count": null,
   "metadata": {},
   "outputs": [],
   "source": [
    "sc.pl.violin(adata, ['Ki-67','cPARP+cCasp3'], groupby='invasive_TME')"
   ]
  },
  {
   "cell_type": "code",
   "execution_count": null,
   "metadata": {},
   "outputs": [],
   "source": [
    "sc.pl.violin(adata, ['CD68', 'Histone H3', 'phospho-H3',], groupby='invasive_TME')"
   ]
  },
  {
   "cell_type": "code",
   "execution_count": null,
   "metadata": {},
   "outputs": [],
   "source": [
    "sc.pl.violin(adata, [ 'SMA','vWF+ CD31','Vimentin'], groupby='invasive_TME')"
   ]
  },
  {
   "cell_type": "code",
   "execution_count": null,
   "metadata": {},
   "outputs": [],
   "source": [
    "sc.pl.violin(adata, ['CD138','pS6' , 'Collagen I' ], groupby='invasive_TME')"
   ]
  },
  {
   "cell_type": "code",
   "execution_count": null,
   "metadata": {},
   "outputs": [],
   "source": [
    "sc.set_figure_params(dpi=150, fontsize=8,figsize='10,10',format='pdf')\n",
    "sc.pl.violin(adata, ['pS6'], groupby='invasive_TME',order = ['basal', 'invasive_basal', 'epithelial', 'invasive_epithelial', 'stroma', 'invasive_stroma','other', 'invasive_other' ], save = '_model201710_invasive_TME_ps6.pdf')"
   ]
  },
  {
   "cell_type": "markdown",
   "metadata": {},
   "source": [
    "###### End of notebook"
   ]
  }
 ],
 "metadata": {
  "kernelspec": {
   "display_name": "Python 3",
   "language": "python",
   "name": "python3"
  },
  "language_info": {
   "codemirror_mode": {
    "name": "ipython",
    "version": 3
   },
   "file_extension": ".py",
   "mimetype": "text/x-python",
   "name": "python",
   "nbconvert_exporter": "python",
   "pygments_lexer": "ipython3",
   "version": "3.7.8"
  }
 },
 "nbformat": 4,
 "nbformat_minor": 4
}
