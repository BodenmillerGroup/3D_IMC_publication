{
 "cells": [
  {
   "cell_type": "code",
   "execution_count": 5,
   "metadata": {},
   "outputs": [],
   "source": [
    "from tifffile import imread, imsave\n",
    "import os, re, sys, csv\n",
    "import numpy as np\n",
    "\n",
    "import napari\n",
    "sys.path.append('~/3D_IMC_paper/Python/python_3d_imc_tools')\n",
    "from io_files import image_filepath_for_3D_stack"
   ]
  },
  {
   "cell_type": "code",
   "execution_count": 6,
   "metadata": {},
   "outputs": [],
   "source": [
    "def load_channel_stack_and_generate_mean_doubles(channel_name_to_load, base_folder):\n",
    "    metal_folder = base_folder +\"/\" + channel_name_to_load\n",
    "    image_path1 = image_filepath_for_3D_stack(metal_folder)\n",
    "    image1 = imread(image_path1, pattern = None)\n",
    "    image1_shape = image1.shape\n",
    "    image_double = np.zeros((image1_shape[0]*2-1, image1_shape[1], image1_shape[2]), dtype ='uint16')\n",
    "    \n",
    "    k = 0\n",
    "    for i in range(image1.shape[0]-1):\n",
    "        missing_slice_image = np.mean( np.array([image1[i, :,:],image1[i+1,:,:]]), axis=0)\n",
    "        \n",
    "        if i == 0 :\n",
    "            image_double[i,:,:] = image1[k, :,:]\n",
    "            image_double[i+1,:,:] = missing_slice_image\n",
    "            \n",
    "        else:\n",
    "            image_double[i*2,:,:] = image1[k, :,:]\n",
    "            image_double[i*2+1,:,:] = missing_slice_image\n",
    "        \n",
    "        k = k+1\n",
    "     \n",
    "    image_double[k*2,:,:] = image1[k, :,:]\n",
    "        \n",
    "    return image_double"
   ]
  },
  {
   "cell_type": "markdown",
   "metadata": {},
   "source": [
    "### LVI lymph model"
   ]
  },
  {
   "cell_type": "code",
   "execution_count": 12,
   "metadata": {},
   "outputs": [
    {
     "name": "stdout",
     "output_type": "stream",
     "text": [
      "(46, 1205, 1215)\n"
     ]
    }
   ],
   "source": [
    "#folder for registeration i.e an image per slice\n",
    "input_base = '~/LVI_breast_cancer/3D_registred_tiffs/IMC_fullStack_registred/imageJ_registration/full_model_aligned/'\n",
    "\n",
    "stack_registred = input_base + 'SIMILARITY10_In115'\n",
    "\n",
    "channel_1= 'Ir191'\n",
    "ir_im_stack = load_channel_stack_and_generate_mean_doubles(channel_1,stack_registred)\n",
    "op_name = input_base+'iridium_input_triple_stack_for_segmentation'\n",
    "imsave(op_name,ir_im_stack)"
   ]
  },
  {
   "cell_type": "markdown",
   "metadata": {},
   "source": [
    "### Big model"
   ]
  },
  {
   "cell_type": "code",
   "execution_count": 6,
   "metadata": {},
   "outputs": [],
   "source": [
    "#folder for registeration i.e an image per slice\n",
    "input_base = '~/3D_model201710/3D_registred_tiffs/IMC_fullStack_registred/imageJ_registration/full_model_aligned/'\n",
    "\n",
    "stack_registred = input_base + 'SIMILARITY10_Nd148'\n",
    "\n",
    "channel_1= 'Ir191'\n",
    "ir_im_stack = load_channel_stack_and_generate_mean_doubles(channel_1,stack_registred)\n",
    "op_name = input_base+'iridium_input_double_stack_for_segmentation'\n",
    "imsave(op_name,ir_im_stack)"
   ]
  },
  {
   "cell_type": "markdown",
   "metadata": {},
   "source": [
    "### Model2 model"
   ]
  },
  {
   "cell_type": "code",
   "execution_count": 7,
   "metadata": {},
   "outputs": [],
   "source": [
    "# INPUT: single chanel TIFFs from the whole 3D model to use for \n",
    "\n",
    "#folder for registeration i.e an image per slice\n",
    "input_base = '~/3D_model201709/3D_registred_tiffs/IMC_fullStack_registred/imageJ_registration/full_model_aligned/'\n",
    "\n",
    "stack_registred = input_base +  'SIMILARITY10_Nd148'\n",
    "\n",
    "\n",
    "channel_1= 'Ir191'\n",
    "ir_im_stack = load_channel_stack_and_generate_mean_doubles(channel_1,stack_registred)\n",
    "op_name = input_base+'iridium_input_double_stack_for_segmentation'\n",
    "imsave(op_name,ir_im_stack)"
   ]
  },
  {
   "cell_type": "markdown",
   "metadata": {},
   "source": [
    "### LVI Blood model"
   ]
  },
  {
   "cell_type": "code",
   "execution_count": 8,
   "metadata": {},
   "outputs": [],
   "source": [
    "#folder for registeration i.e an image per slice\n",
    "input_base =  '~/LVI_sample2_total/3D_registred_tiffs/IMC_fullStack_registred/imageJ_registration/full_model_aligned/'\n",
    "\n",
    "stack_registred = input_base + 'SIMILARITY10_In115'\n",
    "\n",
    "channel_1= 'Ir191'\n",
    "ir_im_stack = load_channel_stack_and_generate_mean_doubles(channel_1,stack_registred)\n",
    "op_name = input_base+'iridium_input_double_stack_for_segmentation'\n",
    "imsave(op_name,ir_im_stack)"
   ]
  },
  {
   "cell_type": "code",
   "execution_count": 79,
   "metadata": {},
   "outputs": [],
   "source": [
    "with napari.gui_qt():\n",
    "    viewer = napari.Viewer()\n",
    "    layer = viewer.add_image(ir_im_stack,  name = channel_1, colormap = 'yellow')"
   ]
  },
  {
   "cell_type": "markdown",
   "metadata": {},
   "source": [
    "###### End of notebook"
   ]
  }
 ],
 "metadata": {
  "kernelspec": {
   "display_name": "Python 3",
   "language": "python",
   "name": "python3"
  },
  "language_info": {
   "codemirror_mode": {
    "name": "ipython",
    "version": 3
   },
   "file_extension": ".py",
   "mimetype": "text/x-python",
   "name": "python",
   "nbconvert_exporter": "python",
   "pygments_lexer": "ipython3",
   "version": "3.7.8"
  }
 },
 "nbformat": 4,
 "nbformat_minor": 4
}
