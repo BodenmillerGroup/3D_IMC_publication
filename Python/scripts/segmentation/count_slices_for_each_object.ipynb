{
 "cells": [
  {
   "cell_type": "code",
   "execution_count": null,
   "metadata": {},
   "outputs": [],
   "source": [
    "from tifffile import imread, imsave\n",
    "import os, re, sys, csv\n",
    "import numpy as np\n",
    "import matplotlib.pyplot as pyp\n",
    "from skimage.morphology import remove_small_objects\n",
    "from skimage.segmentation import clear_border\n",
    "\n",
    "import copy\n",
    "import cv2\n",
    "import pandas as pd\n",
    "from scipy import ndimage as ndi\n",
    "import napari\n",
    "sys.path.append('~/3D_IMC_paper/Python/python_3d_imc_tools')\n",
    "from io_files import image_filepath_for_3D_stack"
   ]
  },
  {
   "cell_type": "code",
   "execution_count": null,
   "metadata": {},
   "outputs": [],
   "source": [
    "input_base = '~/3D_model201710/3D_registred_tiffs/IMC_fullStack_registred/imageJ_registration/full_model_aligned/'\n",
    "#INPUT: Tiffs for each slice are separated into folders.\n",
    "stack_registred = input_base + 'SIMILARITY10_In115'\n",
    "labels_name = input_base + 'measured_mask_final_segmentation_hwatershed_500.00_90%.tif'\n",
    "#overlapping area of the image stack ie the area for the full 3D model used for downstream data analysis. \n",
    "row_start = 466 #y\n",
    "row_end = 916 #y\n",
    "col_start = 398 #x\n",
    "col_end = 1025 #x"
   ]
  },
  {
   "cell_type": "code",
   "execution_count": null,
   "metadata": {},
   "outputs": [],
   "source": [
    "mask_im_stack_ini = imread(labels_name, pattern = None)\n",
    "mask_im_stack = np.squeeze(mask_im_stack_ini)"
   ]
  },
  {
   "cell_type": "code",
   "execution_count": null,
   "metadata": {},
   "outputs": [],
   "source": [
    "mask_im_stack.shape"
   ]
  },
  {
   "cell_type": "code",
   "execution_count": null,
   "metadata": {},
   "outputs": [],
   "source": [
    "layer_dictionary = {}\n",
    "one_slice_object_dict = {}\n",
    "single_layer_object_totals = {}\n",
    "layer_totals = {}\n",
    "\n",
    "for layer in (range(mask_im_stack.shape[0])):\n",
    "    unique_obi = np.unique(mask_im_stack[layer, :,:])\n",
    "    layer_dictionary[layer]  = unique_obi\n",
    "    single_layer_object_totals[layer] = 0\n",
    "    layer_totals[layer] = len(unique_obi)    \n",
    "        \n",
    "unique_objects = np.unique(mask_im_stack)\n",
    "\n",
    "object_layer_counts = {}\n",
    "for cell in unique_objects:\n",
    "    if cell == 0:\n",
    "        continue\n",
    "    else:\n",
    "        layer_count = 0\n",
    "        for key in layer_dictionary.keys():\n",
    "            \n",
    "            if cell in layer_dictionary[key]:\n",
    "                layer_count += 1\n",
    "        object_layer_counts[cell] = layer_count\n",
    "        \n",
    "        if layer_count == 1:\n",
    "            for key in layer_dictionary.keys():\n",
    "                if cell in layer_dictionary[key]:\n",
    "                    one_slice_object_dict[cell] = key\n",
    "                    obi_count = single_layer_object_totals[key]\n",
    "                    single_layer_object_totals[key] = obi_count+1"
   ]
  },
  {
   "cell_type": "code",
   "execution_count": null,
   "metadata": {},
   "outputs": [],
   "source": [
    "layer_table = pd.DataFrame.from_dict(object_layer_counts, 'index', columns= ['slice_count'])"
   ]
  },
  {
   "cell_type": "code",
   "execution_count": null,
   "metadata": {},
   "outputs": [],
   "source": [
    "layer_table.slice_count.value_counts().sort_values().plot(kind = 'barh')"
   ]
  },
  {
   "cell_type": "code",
   "execution_count": null,
   "metadata": {},
   "outputs": [],
   "source": [
    "once_slice_object_table = pd.DataFrame.from_dict(one_slice_object_dict, 'index', columns= ['slice_number'])\n",
    "once_slice_object_table"
   ]
  },
  {
   "cell_type": "code",
   "execution_count": null,
   "metadata": {},
   "outputs": [],
   "source": [
    "bar_plot = once_slice_object_table.slice_number.value_counts().sort_values()\n",
    "bar_plot.plot(kind = 'barh',figsize=(20,40))\n"
   ]
  },
  {
   "cell_type": "code",
   "execution_count": null,
   "metadata": {},
   "outputs": [],
   "source": [
    "totals_object_table = pd.DataFrame.from_dict(layer_totals, 'index', columns= ['total_count'])\n",
    "bar_plot = totals_object_table.total_count\n",
    "s = bar_plot.plot(kind = 'bar',figsize=(20,15), color = 'DarkGray')"
   ]
  },
  {
   "cell_type": "code",
   "execution_count": null,
   "metadata": {},
   "outputs": [],
   "source": [
    "fig = s.get_figure()\n",
    "fig.savefig('~/figures/total_object_count_per_sclice_model201710.png')"
   ]
  },
  {
   "cell_type": "code",
   "execution_count": null,
   "metadata": {},
   "outputs": [],
   "source": [
    "percentage_of_single_layer_objects = {}\n",
    "for entry in single_layer_object_totals.keys():\n",
    "    total_object_per_slice = layer_totals[entry]\n",
    "    single_layer_obi = single_layer_object_totals[entry]\n",
    "    percentage_total = (single_layer_obi/total_object_per_slice)*100\n",
    "    percentage_of_single_layer_objects[entry] = percentage_total"
   ]
  },
  {
   "cell_type": "code",
   "execution_count": null,
   "metadata": {},
   "outputs": [],
   "source": [
    "percentage_object_table = pd.DataFrame.from_dict(percentage_of_single_layer_objects, 'index', columns= ['percentage_count'])\n",
    "bar_plot = percentage_object_table.percentage_count\n",
    "s = bar_plot.plot(kind = 'bar',figsize=(30,10), color = 'DarkGray')"
   ]
  },
  {
   "cell_type": "code",
   "execution_count": null,
   "metadata": {},
   "outputs": [],
   "source": [
    "fig = s.get_figure()\n",
    "fig.savefig('~/figures/single_sclie_objects_model201710.pdf')"
   ]
  },
  {
   "cell_type": "markdown",
   "metadata": {},
   "source": [
    "#### Model2 201709 model"
   ]
  },
  {
   "cell_type": "code",
   "execution_count": null,
   "metadata": {},
   "outputs": [],
   "source": [
    "#folder for registeration i.e an image per slice\n",
    "input_base ='~/3D_registred_tiffs/IMC_fullStack_registred/imageJ_registration/full_model_aligned/'\n",
    "stack_registred = input_base + 'SIMILARITY10_Nd148'\n",
    "labels_name = input_base+'measured_mask_final_segmentation_hwatershed_bg500_90%.tif'\n",
    "\n",
    "#overlapping area of the image stack ie the area for the full 3D model used for downstream data analysis. \n",
    "row_start = 500 #y\n",
    "row_end = 1186   #y\n",
    "col_start = 536 #x\n",
    "col_end = 1144 #x"
   ]
  },
  {
   "cell_type": "code",
   "execution_count": null,
   "metadata": {},
   "outputs": [],
   "source": [
    "mask_im_stack_ini = imread(labels_name, pattern = None)\n",
    "mask_im_stack = np.squeeze(mask_im_stack_ini)"
   ]
  },
  {
   "cell_type": "code",
   "execution_count": null,
   "metadata": {},
   "outputs": [],
   "source": [
    "mask_im_stack.shape"
   ]
  },
  {
   "cell_type": "code",
   "execution_count": null,
   "metadata": {},
   "outputs": [],
   "source": [
    "layer_dictionary = {}\n",
    "one_slice_object_dict = {}\n",
    "single_layer_object_totals = {}\n",
    "layer_totals = {}\n",
    "\n",
    "for layer in (range(mask_im_stack.shape[0])):\n",
    "    unique_obi = np.unique(mask_im_stack[layer, :,:])\n",
    "    layer_dictionary[layer]  = unique_obi\n",
    "    single_layer_object_totals[layer] = 0\n",
    "    layer_totals[layer] = len(unique_obi)    \n",
    "        \n",
    "unique_objects = np.unique(mask_im_stack)\n",
    "\n",
    "object_layer_counts = {}\n",
    "for cell in unique_objects:\n",
    "    if cell == 0:\n",
    "        continue\n",
    "    else:\n",
    "        layer_count = 0\n",
    "        for key in layer_dictionary.keys():\n",
    "            \n",
    "            if cell in layer_dictionary[key]:\n",
    "                layer_count += 1\n",
    "        object_layer_counts[cell] = layer_count\n",
    "        \n",
    "        if layer_count == 1:\n",
    "            for key in layer_dictionary.keys():\n",
    "                if cell in layer_dictionary[key]:\n",
    "                    one_slice_object_dict[cell] = key\n",
    "                    obi_count = single_layer_object_totals[key]\n",
    "                    single_layer_object_totals[key] = obi_count+1"
   ]
  },
  {
   "cell_type": "code",
   "execution_count": null,
   "metadata": {},
   "outputs": [],
   "source": [
    "layer_table = pd.DataFrame.from_dict(object_layer_counts, 'index', columns= ['slice_count'])"
   ]
  },
  {
   "cell_type": "code",
   "execution_count": null,
   "metadata": {},
   "outputs": [],
   "source": [
    "layer_table"
   ]
  },
  {
   "cell_type": "code",
   "execution_count": null,
   "metadata": {},
   "outputs": [],
   "source": [
    "layer_table.slice_count.value_counts().sort_values().plot(kind = 'barh')"
   ]
  },
  {
   "cell_type": "code",
   "execution_count": null,
   "metadata": {},
   "outputs": [],
   "source": [
    "once_slice_object_table = pd.DataFrame.from_dict(one_slice_object_dict, 'index', columns= ['slice_number'])\n",
    "once_slice_object_table"
   ]
  },
  {
   "cell_type": "code",
   "execution_count": null,
   "metadata": {},
   "outputs": [],
   "source": [
    "bar_plot = once_slice_object_table.slice_number.value_counts().sort_values()\n",
    "bar_plot.plot(kind = 'barh',figsize=(20,30))\n"
   ]
  },
  {
   "cell_type": "code",
   "execution_count": null,
   "metadata": {},
   "outputs": [],
   "source": [
    "totals_object_table = pd.DataFrame.from_dict(layer_totals, 'index', columns= ['total_count'])\n",
    "bar_plot = totals_object_table.total_count\n",
    "s =bar_plot.plot(kind = 'bar',figsize=(25,15),color = 'DarkGray')"
   ]
  },
  {
   "cell_type": "code",
   "execution_count": null,
   "metadata": {},
   "outputs": [],
   "source": [
    "fig = s.get_figure()\n",
    "fig.savefig('~/figures/total_object_count_per_sclice_hypoxia_model201709.png')"
   ]
  },
  {
   "cell_type": "code",
   "execution_count": null,
   "metadata": {},
   "outputs": [],
   "source": [
    "percentage_of_single_layer_objects = {}\n",
    "for entry in single_layer_object_totals.keys():\n",
    "    total_object_per_slice = layer_totals[entry]\n",
    "    single_layer_obi = single_layer_object_totals[entry]\n",
    "    percentage_total = (single_layer_obi/total_object_per_slice)*100\n",
    "    percentage_of_single_layer_objects[entry] = percentage_total"
   ]
  },
  {
   "cell_type": "code",
   "execution_count": null,
   "metadata": {},
   "outputs": [],
   "source": [
    "percentage_object_table = pd.DataFrame.from_dict(percentage_of_single_layer_objects, 'index', columns= ['percentage_count'])\n",
    "bar_plot = percentage_object_table.percentage_count\n",
    "s =bar_plot.plot(kind = 'bar',figsize=(25,10),color = 'DarkGray')"
   ]
  },
  {
   "cell_type": "code",
   "execution_count": null,
   "metadata": {},
   "outputs": [],
   "source": [
    "fig = s.get_figure()\n",
    "fig.savefig('~/figures/single_sclie_objects_hypoxia_model201709.pdf')"
   ]
  },
  {
   "cell_type": "markdown",
   "metadata": {},
   "source": [
    "#### LVI BLOOD"
   ]
  },
  {
   "cell_type": "code",
   "execution_count": null,
   "metadata": {},
   "outputs": [],
   "source": [
    "#folder for registeration i.e an image per slice\n",
    "input_base = '~/LVI_sample2/3D_registred_tiffs/IMC_fullStack_registred/imageJ_registration/full_model_aligned/'\n",
    "stack_registred = input_base + 'SIMILARITY10_Nd148'\n",
    "labels_name = input_base+ 'final_segmentation_hwatershed_bg500_90%.tif'\n",
    "#overlapping area of the image stack ie the area for the full 3D model used for downstream data analysis. \n",
    "row_start = 310 #y\n",
    "row_end = 760   #y\n",
    "col_start = 303 #x\n",
    "col_end = 742 #x\n"
   ]
  },
  {
   "cell_type": "code",
   "execution_count": null,
   "metadata": {},
   "outputs": [],
   "source": [
    "mask_im_stack_ini = imread(labels_name, pattern = None)\n",
    "mask_im_stack_ini = np.squeeze(mask_im_stack_ini)"
   ]
  },
  {
   "cell_type": "code",
   "execution_count": null,
   "metadata": {},
   "outputs": [],
   "source": [
    "layer_dictionary = {}\n",
    "one_slice_object_dict = {}\n",
    "single_layer_object_totals = {}\n",
    "layer_totals = {}\n",
    "\n",
    "for layer in (range(mask_im_stack.shape[0])):\n",
    "    unique_obi = np.unique(mask_im_stack[layer, :,:])\n",
    "    layer_dictionary[layer]  = unique_obi\n",
    "    single_layer_object_totals[layer] = 0\n",
    "    layer_totals[layer] = len(unique_obi)    \n",
    "        \n",
    "unique_objects = np.unique(mask_im_stack)\n",
    "\n",
    "object_layer_counts = {}\n",
    "for cell in unique_objects:\n",
    "    if cell == 0:\n",
    "        continue\n",
    "    else:\n",
    "        layer_count = 0\n",
    "        for key in layer_dictionary.keys():\n",
    "            \n",
    "            if cell in layer_dictionary[key]:\n",
    "                layer_count += 1\n",
    "        object_layer_counts[cell] = layer_count\n",
    "        \n",
    "        if layer_count == 1:\n",
    "            for key in layer_dictionary.keys():\n",
    "                if cell in layer_dictionary[key]:\n",
    "                    one_slice_object_dict[cell] = key\n",
    "                    obi_count = single_layer_object_totals[key]\n",
    "                    single_layer_object_totals[key] = obi_count+1"
   ]
  },
  {
   "cell_type": "code",
   "execution_count": null,
   "metadata": {},
   "outputs": [],
   "source": [
    "layer_table = pd.DataFrame.from_dict(object_layer_counts, 'index', columns= ['slice_count'])"
   ]
  },
  {
   "cell_type": "code",
   "execution_count": null,
   "metadata": {},
   "outputs": [],
   "source": [
    "layer_table.slice_count.value_counts().sort_values().plot(kind = 'barh', color = 'DarkGray')"
   ]
  },
  {
   "cell_type": "code",
   "execution_count": null,
   "metadata": {},
   "outputs": [],
   "source": [
    "once_slice_object_table = pd.DataFrame.from_dict(one_slice_object_dict, 'index', columns= ['slice_number'])"
   ]
  },
  {
   "cell_type": "code",
   "execution_count": null,
   "metadata": {},
   "outputs": [],
   "source": [
    "bar_plot = once_slice_object_table.slice_number.value_counts().sort_values()\n",
    "bar_plot.plot(kind = 'barh',figsize=(20,30),color = 'DarkGray')\n"
   ]
  },
  {
   "cell_type": "code",
   "execution_count": null,
   "metadata": {},
   "outputs": [],
   "source": [
    "totals_object_table = pd.DataFrame.from_dict(layer_totals, 'index', columns= ['total_count'])\n",
    "bar_plot = totals_object_table.total_count\n",
    "bar_plot.plot(kind = 'bar',figsize=(20,15),color = 'DarkGray' )"
   ]
  },
  {
   "cell_type": "code",
   "execution_count": null,
   "metadata": {},
   "outputs": [],
   "source": [
    "percentage_of_single_layer_objects = {}\n",
    "for entry in single_layer_object_totals.keys():\n",
    "    total_object_per_slice = layer_totals[entry]\n",
    "    single_layer_obi = single_layer_object_totals[entry]\n",
    "    percentage_total = (single_layer_obi/total_object_per_slice)*100\n",
    "    percentage_of_single_layer_objects[entry] = percentage_total"
   ]
  },
  {
   "cell_type": "code",
   "execution_count": null,
   "metadata": {},
   "outputs": [],
   "source": [
    "percentage_object_table = pd.DataFrame.from_dict(percentage_of_single_layer_objects, 'index', columns= ['percentage_count'])\n",
    "bar_plot = percentage_object_table.percentage_count\n",
    "bar_plot.plot(kind = 'bar',figsize=(20,10),color = 'DarkGray')"
   ]
  }
 ],
 "metadata": {
  "kernelspec": {
   "display_name": "Python 3",
   "language": "python",
   "name": "python3"
  },
  "language_info": {
   "codemirror_mode": {
    "name": "ipython",
    "version": 3
   },
   "file_extension": ".py",
   "mimetype": "text/x-python",
   "name": "python",
   "nbconvert_exporter": "python",
   "pygments_lexer": "ipython3",
   "version": "3.7.8"
  }
 },
 "nbformat": 4,
 "nbformat_minor": 4
}
