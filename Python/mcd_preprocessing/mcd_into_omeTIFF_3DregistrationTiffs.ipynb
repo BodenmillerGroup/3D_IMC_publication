{
 "cells": [
  {
   "cell_type": "code",
   "execution_count": null,
   "metadata": {},
   "outputs": [],
   "source": [
    "import sys\n",
    "sys.path.append('~3D_IMC_paper/Python/mcd_preprocessing/imctools-master')\n",
    "from imctools.scripts import ometiff2analysis\n",
    "from imctools.scripts import imc2tiff\n",
    "from imctools.scripts import convertfolder2imcfolder \n",
    "from imctools.scripts import exportacquisitioncsv\n",
    "from imctools.io import ometiffparser"
   ]
  },
  {
   "cell_type": "code",
   "execution_count": null,
   "metadata": {},
   "outputs": [],
   "source": [
    "import pandas as pd\n",
    "import os\n",
    "import re\n",
    "import zipfile"
   ]
  },
  {
   "cell_type": "markdown",
   "metadata": {},
   "source": [
    "# Important: This notebook is based on imctools v1. Some function names have been changed in imctools v2 and thus this code might not run with newer imctools packages."
   ]
  },
  {
   "cell_type": "markdown",
   "metadata": {},
   "source": [
    "### The 3D IMC preprocessing pipeline for multiplexed image analysis\n",
    "\n",
    "This workflow is based on standard IMC preprocessing pipeline to convert mcd files into omeTIFF files, and into single channel TIFF stacks.\n",
    "This workflow is no different from the standard IMC mcd into omeTIFF conversion, but few modifications have been added for the conversion of omeTIFF files into analysis TIFF stacks.\n",
    "The following convenience modifications have been included:\n",
    "* The CSV antibody panel file should contain the column 'singleTIFFs' to only choose the channels that will be used in the final 3D model. Also this table should only included unique channel names on each row.\n",
    "* ImcAcquisition function (imctools v1) has been modified such that images are made the same size across the 3D stack. The maximum omeTIFF image size is determined first before adding zero-padding to images.\n",
    "\n",
    "* ometiff_2_analysis has  been changed not to produce supporting panel csv files as these are not needed for 3D IMC segmentation (standard IMC pipeline needs these for CellProfiler).\n",
    "\n",
    "* ome2singletiff function has been changed so that not to have channel names in the file name. This was done to allow easier access of files that is uniform across models.\n",
    "\n",
    "\n"
   ]
  },
  {
   "cell_type": "markdown",
   "metadata": {},
   "source": [
    "### Input folders"
   ]
  },
  {
   "cell_type": "code",
   "execution_count": null,
   "metadata": {},
   "outputs": [],
   "source": [
    "# the folders with the ziped acquisition files for the analysis\n",
    "\n",
    "folders =['~/registration_LVI_test_model/LVI_breast_cancer']\n",
    "#name of the zip folder without the extension (without .zip)\n",
    "model_name = '20190220_lvi03_bc_test02'\n",
    "\n",
    "\n",
    "# part that all considered files need to have in common\n",
    "file_regexp = '.*.zip'\n",
    "\n",
    "# output for OME tiffs\n",
    "folder_base = '~/registration_LVI_test_model/LVI_breast_cancer/'\n",
    "\n",
    "# pannel\n",
    "csv_pannel = '~/registration_LVI_test_model/LVI_breast_cancer/BreastCancer_LVI03_Test02.csv'\n",
    "\n",
    "csv_pannel_metal = 'Metal Tag'\n",
    "#column with channels that work and should be included in the final model\n",
    "csv_pannel_singleTIFF = 'singleTIFFs'\n",
    "\n",
    "# full column: Contains the channels that should be quantified/measured in cellprofiler\n",
    "csv_pannel_full = 'full'\n",
    "\n",
    "do_singleTiffs = True\n",
    "\n",
    "singleTiffs_folder = folder_base + '3Dstack_single_channel_tiffs'"
   ]
  },
  {
   "cell_type": "code",
   "execution_count": null,
   "metadata": {},
   "outputs": [],
   "source": [
    "folder_ome = os.path.join(folder_base, 'ometiff')\n",
    "folder_final_registration = os.path.join(folder_base, '3D_registred_tiffs')\n",
    "singleTiffs_folder = os.path.join(folder_base, '3Dstack_single_channel_tiffs')\n",
    "\n",
    "#this is the path to the full omeTiffs as this script will create a subfolder when creating the ome-s.\n",
    "out_tiff_folder = folder_ome + '/'+ model_name+'/'\n",
    "\n",
    "suffix_full = '_full'\n",
    "\n",
    "failed_images = list()\n",
    "\n",
    "# Make a list of all the analysis stacks with format:\n",
    "# (CSV_NAME, SUFFIX, ADDSUM)\n",
    "# CSV_NAME: name of the column in the CSV to be used\n",
    "# SUFFIX: suffix of the tiff\n",
    "# ADDSUM: BOOL, should the sum of all channels be added as the first channel?\n",
    "list_analysis_stacks =[(csv_pannel_full, suffix_full, 0)]\n"
   ]
  },
  {
   "cell_type": "markdown",
   "metadata": {},
   "source": [
    "Generate all the folders if necessary"
   ]
  },
  {
   "cell_type": "code",
   "execution_count": null,
   "metadata": {},
   "outputs": [],
   "source": [
    "for fol in [folder_base,folder_ome,folder_final_registration, singleTiffs_folder]:\n",
    "    if not os.path.exists(fol):\n",
    "        os.makedirs(fol)\n",
    "\n",
    "#create registration subfolder (for full stack and single channel registration)\n",
    "full_stack_reg_folder = os.path.join(folder_final_registration, 'IMC_fullStack_registred')\n",
    "single_channel_reg_folder = os.path.join(folder_final_registration, 'singleChanelRegistration')\n",
    "\n",
    "for fol in [full_stack_reg_folder,single_channel_reg_folder,]:\n",
    "    if not os.path.exists(fol):\n",
    "        os.makedirs(fol)\n",
    "\n"
   ]
  },
  {
   "cell_type": "markdown",
   "metadata": {},
   "source": [
    "### Convert zipped IMC acquisitions to input format (standard IMC pipeline)\n",
    "\n",
    "This script works with zipped IMC acquisitions:\n",
    "Each acquisition session = (1 mcd file) should be zipped in a folder containing:\n",
    "- The `.mcd` file\n",
    "- All associated `.txt` file generated during the acquisition of this `.mcd` file -> Don't change any of the filenames!!"
   ]
  },
  {
   "cell_type": "markdown",
   "metadata": {},
   "source": [
    "Convert mcd containing folders into imc zip folders"
   ]
  },
  {
   "cell_type": "code",
   "execution_count": null,
   "metadata": {},
   "outputs": [],
   "source": [
    "%%time\n",
    "failed_images = list()\n",
    "re_fn = re.compile(file_regexp)\n",
    "\n",
    "for fol in folders:\n",
    "    for fn in os.listdir(fol):\n",
    "        if re_fn.match(fn):\n",
    "            fn_full = os.path.join(fol, fn)\n",
    "            print(fn_full)\n",
    "            try:\n",
    "                convertfolder2imcfolder.convert_folder2imcfolder(fn_full, out_folder=folder_ome,\n",
    "                                                                   dozip=False)\n",
    "            except:\n",
    "                print('Failed Folder: ' + fn_full)"
   ]
  },
  {
   "cell_type": "code",
   "execution_count": null,
   "metadata": {},
   "outputs": [],
   "source": [
    "#if this file already exists then command fails\n",
    "exportacquisitioncsv.export_acquisition_csv(folder_ome, folder_base)"
   ]
  },
  {
   "cell_type": "markdown",
   "metadata": {},
   "source": [
    "### Generate the analysis stacks. The following functions were modified for 3D IMC workflow"
   ]
  },
  {
   "cell_type": "code",
   "execution_count": null,
   "metadata": {},
   "outputs": [],
   "source": [
    "import os\n",
    "import numpy as np\n",
    "from imctools.io.imcacquisition import ImcAcquisition\n",
    "from imctools.io.imcacquisitionbase import ImcAcquisitionBase\n",
    "\n",
    "class ImcAcquisition3D(ImcAcquisition):\n",
    "    \"\"\"\n",
    "     An Image Acquisition Object representing a single acquisition. modified the initial code to allow the user to add background pixels to change image size\n",
    "        so that all the multichannel tiffs in the stack are the same size.\n",
    "    \"\"\"\n",
    "\n",
    "    def __init__(self, other, max_dimensions=None):\n",
    "        \"\"\"\n",
    "        :param filename:\n",
    "        \"\"\"\n",
    "        ImcAcquisitionBase.__init__(self, other.image_ID, other.original_file, other._data, \n",
    "                                    other._channel_metals, other._channel_labels,\n",
    "                                    other.original_metadata, other.image_description, \n",
    "                                    other.origin, other._offset)\n",
    "        self._max_dimensions = max_dimensions\n",
    "\n",
    "    def get_img_stack_cyx(self, channel_idxs=None, offset=None):\n",
    "        \"\"\"\n",
    "        Return the data reshaped as a stack of images\n",
    "        :param: channel_idxs\n",
    "        :return:\n",
    "        \"\"\"\n",
    "        if offset is None:\n",
    "            offset = self._offset\n",
    "        \n",
    "        if channel_idxs is None:\n",
    "            channel_idxs = range(self.n_channels)\n",
    "        \n",
    "        data = self._data\n",
    "        max_dimensions = self._max_dimensions\n",
    "        #modified the following code to allow the user to add background pixels to change image size\n",
    "        #so that all the multichannel tiffs in the stack are the same size.\n",
    "        img = []\n",
    "        for i in channel_idxs:\n",
    "            img_i = data[i+offset]\n",
    "            if max_dimensions is not None:\n",
    "                \n",
    "                if len(img_i.shape) == 2:\n",
    "                    xysize = img_i.shape\n",
    "                    \n",
    "                else:\n",
    "                    return \"It should be a 2D array per one channel\"\n",
    "                                      \n",
    "                if len(max_dimensions) == 2:\n",
    "                    ymax = max_dimensions[1]\n",
    "                    xmax = max_dimensions[0]\n",
    "                                        \n",
    "                else:\n",
    "                    return \"Padding should have input as list of two arguments:maximum image size mxn\\\n",
    "                            in x (columns of matrix) and in y (rows of matrix) \"\n",
    "                \n",
    "                #might require more checks if x or y equals zero\n",
    "                #if ymax-xysize[0] == 0 and xmax-xysize[1] == 0:\n",
    "                    \n",
    "                #    img.append(img_i)\n",
    "                \n",
    "                #else:\n",
    "                img_i= np.pad(img_i,[(0,ymax-xysize[0]), (0,xmax-xysize[1])], 'constant')\n",
    "                \n",
    "                img.append(img_i)\n",
    "                \n",
    "            else:\n",
    "                img.append(img_i)\n",
    "        \n",
    "        return img"
   ]
  },
  {
   "cell_type": "code",
   "execution_count": null,
   "metadata": {},
   "outputs": [],
   "source": [
    "#change the function to generate the folder for registration with no csv metadata files\n",
    "\n",
    "def ometiff_2_analysis_noCSV(filename, outfolder, basename, pannelcsv=None, metalcolumn=None, masscolumn=None, usedcolumn=None,\n",
    "                       addsum=False, bigtiff=True, sort_channels=True, pixeltype=None):\n",
    "    # read the pannelcsv to find out which channels should be loaded\n",
    "    selmetals = None\n",
    "    selmass = None\n",
    "\n",
    "    outname = os.path.join(outfolder, basename)\n",
    "    if pannelcsv is not None:\n",
    "\n",
    "        pannel = pd.read_csv(pannelcsv)\n",
    "        if pannel.shape[1] > 1:\n",
    "            selected = pannel[usedcolumn]\n",
    "            if masscolumn is None:\n",
    "                metalcolumn = metalcolumn\n",
    "                selmetals = [str(n) for s, n in zip(selected, pannel[metalcolumn]) if s]\n",
    "            else:\n",
    "                selmass = [str(n) for s, n in zip(selected, pannel[masscolumn]) if s]\n",
    "        else:\n",
    "            selmetals = [pannel.columns[0]] + pannel.iloc[:,0].tolist()\n",
    "            \n",
    "    ome = ometiffparser.OmetiffParser(filename)\n",
    "    imc_img = ImcAcquisition3D(ome.get_imc_acquisition(),max_dimensions = [col_max, row_max])\n",
    "    \n",
    "    if sort_channels:\n",
    "        if selmetals is not None:\n",
    "            def mass_from_met(x):\n",
    "                return (''.join([m for m in x if m.isdigit()]), x)\n",
    "            selmetals = sorted(selmetals, key=mass_from_met)\n",
    "        if selmass is not None:\n",
    "            selmass = sorted(selmass)\n",
    "\n",
    "    writer = imc_img.get_image_writer(outname + '.tiff', metals=selmetals, mass=selmass)\n",
    " \n",
    "    \n",
    "    if addsum:\n",
    "        img_sum = np.sum(writer.img_stack, axis=2)\n",
    "        img_sum = np.reshape(img_sum, list(img_sum.shape)+[1])\n",
    "        writer.img_stack = np.append(img_sum, writer.img_stack, axis=2)\n",
    "\n",
    "    writer.save_image(mode='imagej', bigtiff=bigtiff, dtype=pixeltype)\n",
    "\n",
    "    if selmass is not None:\n",
    "        savenames = selmass\n",
    "\n",
    "    elif selmetals is not None:\n",
    "        savenames = selmetals\n",
    "    else:\n",
    "        savenames = [s for s in imc_img.channel_metals]\n",
    "\n",
    "    if addsum:\n",
    "        savenames = ['sum'] + savenames\n",
    "    #The following three lines were commented out, and no commandline arguments were generated\n",
    "    #with open(outname + '.csv', 'w') as f:\n",
    "    #    for n in savenames:\n",
    "    #        f.write(n + '\\n')"
   ]
  },
  {
   "cell_type": "code",
   "execution_count": null,
   "metadata": {},
   "outputs": [],
   "source": [
    "# original 'ome2singletiff' functions generates file names with channel name, but easier to work if only metal\n",
    "# in the file name => use modified function\n",
    "\n",
    "from imctools.io import ometiffparser\n",
    "\n",
    "def ome2singletiff_noChannel(path_ome, outfolder, pannelcsv=None, metalcolumn=None, usedcolumn=None, basename=None, dtype=None):\n",
    "    \"\"\"\n",
    "    Saves the planes of an ome stack as a folder\n",
    "    :param fn_ome:\n",
    "    :param outfolder:\n",
    "    :return:\n",
    "    \"\"\"\n",
    "    #padding into target dimension\n",
    "    ome = ometiffparser.OmetiffParser(path_ome)\n",
    "    imc_img = ImcAcquisition3D(ome.get_imc_acquisition(), max_dimensions = [col_max, row_max])\n",
    "    \n",
    "    if basename is None:\n",
    "        fn_new = os.path.split(path_ome)[1].rstrip('.ome.tiff') + '_'\n",
    "        \n",
    "    else:\n",
    "        fn_new = basename\n",
    "    \n",
    "    pannel = pd.read_csv(pannelcsv)\n",
    "    \n",
    "    if pannel.shape[1] > 1:\n",
    "            selected = pannel[usedcolumn]\n",
    "            metalcolumn = metalcolumn\n",
    "            selmetals = [str(n) for s, n in zip(selected, pannel[metalcolumn]) if s]\n",
    "    for label, metal in zip(imc_img.channel_labels, imc_img.channel_metals):\n",
    "        \n",
    "        if metal in selmetals:\n",
    "            \n",
    "            label = re.sub('[^a-zA-Z0-9]', label,'-')\n",
    "            new_path = os.path.join(outfolder, fn_new+'_'+metal)\n",
    "            writer = imc_img.get_image_writer(new_path + '.tiff', metals=[metal])\n",
    "            writer.save_image(mode='imagej', dtype=dtype)\n",
    "        \n",
    "        else:\n",
    "           \n",
    "            print('This channel had no antibody or did not work, therefore not converted:', metal)\n",
    "            continue"
   ]
  },
  {
   "cell_type": "code",
   "execution_count": null,
   "metadata": {
    "scrolled": true
   },
   "outputs": [],
   "source": [
    "#read the the single channel tiffs to find out the max dimensions of the 3D slices for downstream padding\n",
    "\n",
    "from tifffile import imread\n",
    "\n",
    "img_dimy= []\n",
    "img_dimx = []\n",
    "for fol in os.listdir(folder_ome):\n",
    "    sub_fol = os.path.join(folder_ome, fol)\n",
    "    for img in os.listdir(sub_fol):\n",
    "        print(img)\n",
    "        if not img.endswith('.ome.tiff'):\n",
    "            continue\n",
    "        img =  imread(os.path.join(sub_fol, img))\n",
    "    \n",
    "        img_dim = img.shape\n",
    "        img_dimy.append(img.shape[1])\n",
    "        img_dimx.append(img.shape[2])\n",
    "\n",
    "        \n",
    "print(max(img_dimy))\n",
    "print(max(img_dimx))"
   ]
  },
  {
   "cell_type": "code",
   "execution_count": null,
   "metadata": {},
   "outputs": [],
   "source": [
    "row_max= max(img_dimy)\n",
    "col_max= max(img_dimx)"
   ]
  },
  {
   "cell_type": "code",
   "execution_count": null,
   "metadata": {},
   "outputs": [],
   "source": [
    "#the function 'ometiff_2_analysis' also generates metadata files such as panorama png files, xml, and csv files\n",
    "#for generating single channel tiffs need check that only tiff files are read from the folder: in csv file call\n",
    "#the column 'singleTiffs'\n",
    "\n",
    "if do_singleTiffs:\n",
    "    if not(os.path.exists(singleTiffs_folder)):\n",
    "        os.makedirs(singleTiffs_folder)\n",
    "    for file in [f for f in os.listdir(out_tiff_folder) if f.endswith('.ome.tiff')]:\n",
    "        print(file)\n",
    "        singleTiffs = singleTiffs_folder+'/'+ file\n",
    "\n",
    "        if not(os.path.exists(singleTiffs)):\n",
    "            os.makedirs(singleTiffs)\n",
    "            \n",
    "        ome_file = out_tiff_folder+file\n",
    "        # add arguments to only have channels with antibody staining\n",
    "        # pannelcsv, usedcolumn, metalcolumn,\n",
    "        ome2singletiff_noChannel(ome_file, outfolder = singleTiffs, pannelcsv = csv_pannel,\n",
    "                                 metalcolumn = csv_pannel_metal, usedcolumn = csv_pannel_singleTIFF, \n",
    "                                 dtype='uint16')"
   ]
  },
  {
   "cell_type": "markdown",
   "metadata": {},
   "source": [
    "Notebook finished"
   ]
  }
 ],
 "metadata": {
  "kernelspec": {
   "display_name": "Python 3",
   "language": "python",
   "name": "python3"
  },
  "language_info": {
   "codemirror_mode": {
    "name": "ipython",
    "version": 3
   },
   "file_extension": ".py",
   "mimetype": "text/x-python",
   "name": "python",
   "nbconvert_exporter": "python",
   "pygments_lexer": "ipython3",
   "version": "3.7.8"
  }
 },
 "nbformat": 4,
 "nbformat_minor": 4
}
